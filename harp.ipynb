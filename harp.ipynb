{
 "cells": [
  {
   "cell_type": "markdown",
   "id": "ca3f462e",
   "metadata": {},
   "source": []
  },
  {
   "cell_type": "raw",
   "id": "24f3ec13",
   "metadata": {},
   "source": [
    "import retirement as rp\n",
    "\n",
    "rp.setVerbose(True)\n",
    "\n",
    "plan = rp.Plan(YOB=[1958, 1961], expectancy=[91, 92])\n",
    "\n",
    "plan.setAssetBalances(taxable=[500000, 500000], \n",
    "                      taxDeferred=[1000000, 500000],\n",
    "                      taxFree=[100000, 100000],\n",
    "                      beneficiary=[1., 1.])\n",
    "\n",
    "plan.setAssetRatios(taxableR=[[0, .5, .5], [0, .5, .5]],\n",
    "                    taxDeferredR=[[.6, .4, 0.], [.6, .4, 0]],\n",
    "                    taxFreeR=[[.8, .2, 0], [.8, .2, 0]])\n",
    "\n",
    "\n",
    "# Specify rate of returns for each class of assets.\n",
    "# Valid entries are 'historical', 'stochastic', or a list of average values.\n",
    "myrates = [0.09, 0.04, 0.03, 0.038]\n",
    "plan.setRates(myrates)\n",
    "\n",
    "# Enter desired value for net income in retirementi, and spending profile.\n",
    "plan.setDesiredIncome(150000, 'smile')\n",
    "\n",
    "# How to handle withdrawals between spouses.\n",
    "plan.setSpousalSplit('auto')\n",
    "\n",
    "# Now enter fixed income.\n",
    "plan.setPension([0, 10000], [65, 65])\n",
    "\n",
    "# And social security income.\n",
    "plan.setSocialSecurity([40000, 30000], [70, 70])\n",
    "\n",
    "# Name of spreadsheet containing financial events (contributions, etc).\n",
    "plan.readContributions('timeHorizon.xlsx')"
   ]
  },
  {
   "cell_type": "markdown",
   "id": "cd06c67f",
   "metadata": {},
   "source": []
  },
  {
   "cell_type": "code",
   "execution_count": 1,
   "id": "20163487",
   "metadata": {},
   "outputs": [
    {
     "ename": "NameError",
     "evalue": "name 'rp' is not defined",
     "output_type": "error",
     "traceback": [
      "\u001b[0;31m---------------------------------------------------------------------------\u001b[0m",
      "\u001b[0;31mNameError\u001b[0m                                 Traceback (most recent call last)",
      "Cell \u001b[0;32mIn[1], line 1\u001b[0m\n\u001b[0;32m----> 1\u001b[0m help(rp)\n",
      "\u001b[0;31mNameError\u001b[0m: name 'rp' is not defined"
     ]
    }
   ],
   "source": [
    "help(rp)"
   ]
  },
  {
   "cell_type": "markdown",
   "id": "72fde196",
   "metadata": {},
   "source": []
  },
  {
   "cell_type": "code",
   "execution_count": null,
   "id": "56550dbd",
   "metadata": {},
   "outputs": [],
   "source": [
    "import data"
   ]
  },
  {
   "cell_type": "markdown",
   "id": "75922fac",
   "metadata": {},
   "source": []
  },
  {
   "cell_type": "code",
   "execution_count": null,
   "id": "af6cea9b",
   "metadata": {},
   "outputs": [],
   "source": [
    "%matplotlib inline"
   ]
  },
  {
   "cell_type": "markdown",
   "id": "37e905a2",
   "metadata": {},
   "source": []
  },
  {
   "cell_type": "code",
   "execution_count": null,
   "id": "9609dd50",
   "metadata": {},
   "outputs": [],
   "source": [
    "data.u.verbose = True\n",
    "data.getDistributions(1928, 2022)"
   ]
  },
  {
   "cell_type": "code",
   "execution_count": null,
   "id": "285239dd",
   "metadata": {},
   "outputs": [],
   "source": [
    "horizonFile = \"myTimeHorizons.xlsx\"\n",
    "settings = \"m+l_2023\""
   ]
  },
  {
   "cell_type": "code",
   "execution_count": null,
   "id": "f719e638",
   "metadata": {},
   "outputs": [],
   "source": [
    "retirement.runOnce(settings, horizonFile)"
   ]
  },
  {
   "cell_type": "code",
   "execution_count": null,
   "id": "39ba8d49",
   "metadata": {},
   "outputs": [],
   "source": [
    "retirement.some = 1"
   ]
  },
  {
   "cell_type": "code",
   "execution_count": null,
   "id": "a95dad48",
   "metadata": {},
   "outputs": [],
   "source": [
    "print(retirement.some)"
   ]
  }
 ],
 "metadata": {
  "kernelspec": {
   "display_name": "Python 3 (ipykernel)",
   "language": "python",
   "name": "python3"
  },
  "language_info": {
   "codemirror_mode": {
    "name": "ipython",
    "version": 3
   },
   "file_extension": ".py",
   "mimetype": "text/x-python",
   "name": "python",
   "nbconvert_exporter": "python",
   "pygments_lexer": "ipython3",
   "version": "3.11.5"
  }
 },
 "nbformat": 4,
 "nbformat_minor": 5
}
