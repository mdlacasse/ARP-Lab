{
 "cells": [
  {
   "cell_type": "markdown",
   "id": "ca3f462e",
   "metadata": {},
   "source": [
    "# HARP\n",
    "## Have Another Retirement Planner"
   ]
  },
  {
   "cell_type": "markdown",
   "id": "edc6eaa6",
   "metadata": {},
   "source": [
    "Some description here."
   ]
  },
  {
   "cell_type": "markdown",
   "id": "a0fc25b6",
   "metadata": {},
   "source": [
    "## Just some Python module bookkeeping"
   ]
  },
  {
   "cell_type": "code",
   "execution_count": null,
   "id": "0528b077",
   "metadata": {},
   "outputs": [],
   "source": [
    "%matplotlib inline\n",
    "# import retirement as rp\n",
    "\n",
    "import importlib\n",
    "rp = importlib.import_module('retirement')\n",
    "importlib.reload(rp)\n",
    "\n",
    "rp.setVerbose(True)"
   ]
  },
  {
   "cell_type": "markdown",
   "id": "f24324bd",
   "metadata": {},
   "source": [
    "## Initialize our plan\n",
    "Plan must start with year of birth of each of the spouse and their expected lifespan.\n",
    "\n",
    "There are plenty of predictors on the web. Pick your favorite:\n",
    "\n",
    "https://www.livingto100.com/calculator\n",
    "\n",
    "https://www.sunlife.ca/en/tools-and-resources/tools-and-calculators/life-expectancy-calculator/\n",
    "\n",
    "or just Google life expectancy calculator.\n",
    "\n",
    "There are two values needed for couples. Single individuals just enter one value in each list [ ]. For couples, keep the same order when entering data. Here Jack was born in 1961 and Jill in 1964. Jack hopes to live to 89 yo, while Jill thinks she might reach age 92."
   ]
  },
  {
   "cell_type": "code",
   "execution_count": null,
   "id": "0256b333",
   "metadata": {},
   "outputs": [],
   "source": [
    "plan = rp.Plan(YOB=[1961, 1964], expectancy=[89, 92])"
   ]
  },
  {
   "cell_type": "markdown",
   "id": "164bded1",
   "metadata": {},
   "source": [
    "## Specify account balances and spousal beneficiaries\n",
    "For each spouse, accounts have three buckets comprising of the total value of:\n",
    "- Individual taxable investment accounts, including bank accounts, and CDs\n",
    "- Tax-deferred accounts, including all IRAs, 401k, 403b, etc.\n",
    "- Tax-free accounts, including Roth IRAs and Roth 401k\n",
    "\n",
    "There are two values for each type of account, one for each spouse following the same order as before.\n",
    "\n",
    "The beneficiary values specifies the fraction of total of assets left to the other spouse at death."
   ]
  },
  {
   "cell_type": "code",
   "execution_count": null,
   "id": "7ac7b063",
   "metadata": {},
   "outputs": [],
   "source": [
    "plan.setAssetBalances(taxable=[90000, 40000], \n",
    "                      taxDeferred=[500000, 150000],\n",
    "                      taxFree=[80000, 25000],\n",
    "                      beneficiary=[1., 1.])"
   ]
  },
  {
   "cell_type": "markdown",
   "id": "4277b106",
   "metadata": {},
   "source": [
    "## What is the current and desired future asset allocations?\n",
    "Each account can invest in 3 major asset classes:\n",
    "- Equities that can be represented by the S&P500 index\n",
    "- Corporate bonds (AA) representing bond assets\n",
    "- Fixed securities represented by the 10-year treasury bond\n",
    "\n",
    "The total of percentages in each class of asset for each account must add to 100%.\n",
    "\n",
    "You are asked to provide an asset distribution for today, and one for the end of your life.\n",
    "Values in between will be interpolated using a linear operator (for now). This can be useful\n",
    "if you want to shift asset allocation as you age."
   ]
  },
  {
   "cell_type": "code",
   "execution_count": null,
   "id": "fab9cc25",
   "metadata": {},
   "outputs": [],
   "source": [
    "plan.setInitialAR(taxableAR=[[0, 50, 50], [0, 50, 50]],\n",
    "                  taxDeferredAR=[[60, 40, 0], [60, 40, 0]],\n",
    "                  taxFreeAR=[[80, 20, 0], [80, 20, 0]])\n",
    "\n",
    "plan.setFinalAR(taxableAR=[[0, 50, 50], [0, 50, 50]],\n",
    "                taxDeferredAR=[[60, 40, 0], [60, 40, 0]],\n",
    "                taxFreeAR=[[80, 20, 0], [80, 20, 0]])\n",
    "\n",
    "plan.interpolateAR('linear')"
   ]
  },
  {
   "cell_type": "markdown",
   "id": "dc5f236f",
   "metadata": {},
   "source": [
    "## Specify rates of return and inflation rate\n",
    "We can specify the rate of returns for each class of assets, and inflation.\n",
    "Valid entries are 'historical', 'stochastic', or a list of average values.\n",
    "\n",
    "For historical and stochastic data, data from 1928 to today is available for experimenting.\n",
    "Ranges chosen smaller that the life horizon will have rates repeated in cycle. For example,\n",
    "choosing 1994 to 1996 will repeat these three values over the timespan of the plan.\n",
    "\n",
    "Choosing a range of 1970 to 2022, will use the rates of 1970 for this year and 1971 for next, etc.\n",
    "\n",
    "One can also use fixed rates by providing a list of 4 entries as follows:\n",
    "\n",
    "    myrates = [9.6, 4.0, 3.0, 3.8]\n",
    "    plan.setRates(myrates)\n",
    "    \n",
    "This example would use a fixed average rates of 9.6%, 4% and 3% average return on S&P500, bonds, and fixed assets, respectively, with an average inflation rate of 3.8%.\n",
    "\n",
    "Note that the S&P500 rates used always include dividends."
   ]
  },
  {
   "cell_type": "code",
   "execution_count": null,
   "id": "fc3d5a8c",
   "metadata": {},
   "outputs": [],
   "source": [
    "# plan.setRates('historical', 1978, 2022)\n",
    "plan.setRates([8, 4, 4, 3])"
   ]
  },
  {
   "cell_type": "markdown",
   "id": "3d566b75",
   "metadata": {},
   "source": [
    "## What is your desired net income at retirement?\n",
    "For determining this value, retirement planners will strongly suggest that you've must have done a cashflow analysis on your yearly spending. After this exercise, you should have a good idea of how much you'll need in retirement.\n",
    "\n",
    "The desired income here is the net income (i.e., after paying taxes) that you would like to have starting at your retirement age. This income is adjusted for inflation and can follow an additional adjustment called a *smile* profile. A *smile* profile accounts for the fact that your spending capacity will modulate during retirement as you go from the so-called gogo years to the no-go years. A *flat* profile, on the other hand, will keep the same value, which will be only inflation-adjusted."
   ]
  },
  {
   "cell_type": "code",
   "execution_count": null,
   "id": "c6563e1f",
   "metadata": {},
   "outputs": [],
   "source": [
    "# Enter desired value for net income, and spending profile.\n",
    "plan.setDesiredIncome(90000, 'smile')"
   ]
  },
  {
   "cell_type": "markdown",
   "id": "179b0ff6",
   "metadata": {},
   "source": [
    "## You must have some fixed income?\n",
    "Pension and social security are fixed income. Model here assumes that pension is not inflation adjusted while social security benefits are. Entries are the predicted amount for each spouse and the age for the commencement of benefits.\n",
    "\n",
    "If you have no pension, just use zeros (0) as entries, as in\n",
    "\n",
    "    plan.setPension([0, 0], [65, 65])\n",
    "    \n",
    "For social security, you must provide the predicted amount(s) and the age(s) at which you start receiving benefits. There are plenty of social security benefit estimators on the web, including the info you can get from your own account at the Social Security Administration (ssa.gov)."
   ]
  },
  {
   "cell_type": "code",
   "execution_count": null,
   "id": "dc7937ae",
   "metadata": {},
   "outputs": [],
   "source": [
    "plan.setPension([0, 10000], [65, 65])\n",
    "\n",
    "plan.setSocialSecurity([30000, 28000], [70, 70])"
   ]
  },
  {
   "cell_type": "markdown",
   "id": "2798496d",
   "metadata": {},
   "source": [
    "## Provide work income, contributions, Roth conversions, and other items by year\n",
    "In order to run the plan, you must provide a worksheet with one spreadsheet (TAB) per spouse with the following information:\n",
    "\n",
    "|year|anticipated income|ctrb taxable | ctrb 401k | ctrb Roth 401k | ctrb IRA | ctrb Roth IRA | Roth X | big ticket items|\n",
    "|--|--|--|--|--|--|--|--|--|\n",
    "|2023 | | | | | | | | |\n",
    "|2024 | | | | | | | | |\n",
    "| ... | | | | | | | | |\n",
    "|20XX | | | | | | | | |\n",
    "\n",
    "Here, 20XX is the first year after both spouses have passed. For the columns, *Anticipated income* is the annual amount (gross) that you anticipate to receive from employement or other sources (not including dividends from your taxable investment account). Note that column names are case sensitive and every entry must be in lower case.\n",
    "\n",
    "Contributions to your savings accounts are marked as *ctrb*. Contributions to your 401k must also include your employer's contributions. Being in excel, you can use the calculator to enter percentage of your anticipated income.\n",
    "\n",
    "Roth conversion are specified in the column marked *Roth X*. Finally, *big ticket items* are the sale or purchase of a house, or any other major expense or money that you would receive (e.g., inheritance, or large gifts to or from you).\n",
    "\n",
    "The TAB name for each spreadsheet represents the name of the spouse for reporting transactions resulting from the plan. So for Jack and Jill, this worksheet file would have two tabs, the first one marked *Jack* and the second one marked *Jill*, following the same order of data as before.\n",
    "\n",
    "An example is provided in the file *timeHorizon.xlsx*. Files from LibreOffice can also be read."
   ]
  },
  {
   "cell_type": "code",
   "execution_count": null,
   "id": "ca86c1fb",
   "metadata": {},
   "outputs": [],
   "source": [
    "plan.readContributions('timeHorizon.xlsx')"
   ]
  },
  {
   "cell_type": "markdown",
   "id": "de858c40",
   "metadata": {},
   "source": [
    "## How do you want to withdraw from you and your spouse's accounts?\n",
    "By specifying an *auto* spousal split, the withdrawals from the retirement accounts will be made proportial to their respective values. It can also be specified as a value (e.g., 0.65) in which case 0.65 will be taken from the first account and the other 35% taken from the other (second entry) spouse."
   ]
  },
  {
   "cell_type": "code",
   "execution_count": null,
   "id": "a88a3365",
   "metadata": {},
   "outputs": [],
   "source": [
    "plan.setSpousalSplit('auto')"
   ]
  },
  {
   "cell_type": "markdown",
   "id": "d2eb3097",
   "metadata": {},
   "source": [
    "## Run calculations\n",
    "This is where everythng gets calculated for the time horizon set by the life expectancy of individual(s)."
   ]
  },
  {
   "cell_type": "code",
   "execution_count": null,
   "id": "20163487",
   "metadata": {},
   "outputs": [],
   "source": [
    "plan.run();"
   ]
  },
  {
   "cell_type": "markdown",
   "id": "a45d4a57",
   "metadata": {},
   "source": [
    "## Show net income compared to target over the years"
   ]
  },
  {
   "cell_type": "code",
   "execution_count": null,
   "id": "971bd628",
   "metadata": {},
   "outputs": [],
   "source": [
    "plan.plotNetIncome();"
   ]
  },
  {
   "cell_type": "markdown",
   "id": "af1445bc",
   "metadata": {},
   "source": [
    "## Show sources of income over the years"
   ]
  },
  {
   "cell_type": "code",
   "execution_count": null,
   "id": "e0f71faf",
   "metadata": {
    "scrolled": false
   },
   "outputs": [],
   "source": [
    "plan.plotSources();"
   ]
  },
  {
   "cell_type": "markdown",
   "id": "b9191a01",
   "metadata": {},
   "source": [
    "## Show account balances at the beginning of the year"
   ]
  },
  {
   "cell_type": "code",
   "execution_count": null,
   "id": "f330fef9",
   "metadata": {},
   "outputs": [],
   "source": [
    "plan.plotAccounts();"
   ]
  },
  {
   "cell_type": "markdown",
   "id": "9a970168",
   "metadata": {},
   "source": [
    "## Show annual taxes paid over the years"
   ]
  },
  {
   "cell_type": "code",
   "execution_count": null,
   "id": "a95dad48",
   "metadata": {},
   "outputs": [],
   "source": [
    "plan.plotTaxes();"
   ]
  },
  {
   "cell_type": "markdown",
   "id": "7d076968",
   "metadata": {},
   "source": [
    "## Show taxable annual income and anticipated tax brackets"
   ]
  },
  {
   "cell_type": "code",
   "execution_count": null,
   "id": "2ccb652d",
   "metadata": {
    "scrolled": true
   },
   "outputs": [],
   "source": [
    "plan.plotTaxableIncome();"
   ]
  },
  {
   "cell_type": "markdown",
   "id": "3feb5f50",
   "metadata": {},
   "source": [
    "## Show annual rates used for calculations"
   ]
  },
  {
   "cell_type": "code",
   "execution_count": null,
   "id": "a44f7f73",
   "metadata": {
    "scrolled": true
   },
   "outputs": [],
   "source": [
    "plan.plotRates();"
   ]
  },
  {
   "cell_type": "markdown",
   "id": "708fcb8c",
   "metadata": {},
   "source": [
    "## Do we save this plan?"
   ]
  },
  {
   "cell_type": "code",
   "execution_count": null,
   "id": "09ada819",
   "metadata": {},
   "outputs": [],
   "source": [
    "# plan.savePlanXL('Jack and Jill')"
   ]
  }
 ],
 "metadata": {
  "kernelspec": {
   "display_name": "Python 3 (ipykernel)",
   "language": "python",
   "name": "python3"
  },
  "language_info": {
   "codemirror_mode": {
    "name": "ipython",
    "version": 3
   },
   "file_extension": ".py",
   "mimetype": "text/x-python",
   "name": "python",
   "nbconvert_exporter": "python",
   "pygments_lexer": "ipython3",
   "version": "3.11.4"
  }
 },
 "nbformat": 4,
 "nbformat_minor": 5
}
