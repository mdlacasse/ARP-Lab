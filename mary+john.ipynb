{
 "cells": [
  {
   "cell_type": "markdown",
   "id": "ca3f462e",
   "metadata": {},
   "source": [
    "# ARP Lab\n",
    "## A Retirement Planning Laboratory"
   ]
  },
  {
   "cell_type": "markdown",
   "id": "3fbb38b5",
   "metadata": {},
   "source": [
    "This package is a retirement modeling framework for exploring the sensitivity of retirement financial decisions. Strictly speaking, it is not a planning tool, but more an environment for exploring *what if* scenarios. It provides different realizations of a financial strategy. One can certainly have a savings plan, but due to the volatility of financial investments, it is impossible to have a certain asset earnings plan. That does not mean one cannot make decisions. This is where this tool fits it. Given your savings and spending desires, it can generate different future realizations of your strategy under different market assumptions, helping to better understand one's financial situation.\n",
    "\n",
    "Copyright - Martin-D. Lacasse (2023)\n",
    "\n",
    "Disclaimers: *I am not a financial planner. You make your own decisions. This program comes with no guarantee. Use at your own risk.*"
   ]
  },
  {
   "cell_type": "markdown",
   "id": "355ed178",
   "metadata": {},
   "source": [
    "## Introduction\n",
    "This file is provided as an example to introduce you to ARP Lab.\n",
    "\n",
    "I assume that you have some familiarity with using a jupyter notebook or jupyterLab, and some basic programming skills in Python.\n",
    "\n",
    "For simulating your own realizations, use (and possibly rename) the files beginning with *template*. Make a copy and rename them keeping the same extension and give them you own names. Then you'll be able to personalize a case with your own numbers and start experimenting with ARP Lab."
   ]
  },
  {
   "cell_type": "markdown",
   "id": "a7c9b1a6-f17d-4f66-b738-edb44de5bc6b",
   "metadata": {},
   "source": [
    "# Exploring the effect of coordinating assets allocations with ARP Lab"
   ]
  },
  {
   "cell_type": "markdown",
   "id": "cf3db9d8-1ddf-49a7-8c97-44ed9c74f85d",
   "metadata": {},
   "source": [
    "This notebook explores the effects of coordinating assets between savings accounts and spouses."
   ]
  },
  {
   "cell_type": "markdown",
   "id": "e4a95968-75c2-440b-a954-af520dfb8f27",
   "metadata": {
    "tags": []
   },
   "source": [
    "### Just some Python module bookkeeping\n",
    "The following commands are bookkeeping calls that load the required module and set the program to display verbose informational messages as it runs. It also makes sure that all graphs are properly displayed within the jupyter interface.\n",
    "\n",
    "These commands need to be at the beginning of any ARP Lab notebook."
   ]
  },
  {
   "cell_type": "code",
   "execution_count": null,
   "id": "7744b67b",
   "metadata": {},
   "outputs": [],
   "source": [
    "%matplotlib inline\n",
    "# import arp\n",
    "\n",
    "import importlib\n",
    "arp = importlib.import_module('arp')\n",
    "importlib.reload(arp)\n",
    "\n",
    "arp.setVerbose(True)"
   ]
  },
  {
   "cell_type": "markdown",
   "id": "ada1f958-f2ae-4836-bd64-483dcedbe528",
   "metadata": {
    "tags": []
   },
   "source": [
    "## Initializing the realization\n",
    "\n",
    "We consider Mary and John, an average couple that just retired."
   ]
  },
  {
   "cell_type": "code",
   "execution_count": null,
   "id": "760e4a8e",
   "metadata": {},
   "outputs": [],
   "source": [
    "plan1 = arp.Plan(YOB=[1961, 1964], expectancy=[85, 88])"
   ]
  },
  {
   "cell_type": "markdown",
   "id": "b5bd2ada-e63c-47e2-9075-6365f5b4e2a2",
   "metadata": {
    "tags": []
   },
   "source": [
    "## Specify account balances and spousal beneficiaries\n"
   ]
  },
  {
   "cell_type": "markdown",
   "id": "de0fc285-f789-4989-b22a-1c6fc6a9f7c5",
   "metadata": {},
   "source": [
    "Mary and John have the following assets. They leave all their assets to the surviving spouse."
   ]
  },
  {
   "cell_type": "code",
   "execution_count": null,
   "id": "aa9b0109",
   "metadata": {},
   "outputs": [],
   "source": [
    "plan1.setAssetBalances(taxable=[50000, 40000], \n",
    "                      taxDeferred=[1000000, 400000],\n",
    "                      taxFree=[80000, 40000],\n",
    "                      beneficiary=[1, 1])"
   ]
  },
  {
   "cell_type": "markdown",
   "id": "405607fa-fe98-4311-899d-d4d2d1711e13",
   "metadata": {},
   "source": [
    "## There must be a plan for savings"
   ]
  },
  {
   "cell_type": "markdown",
   "id": "4032ddc5-9647-4e55-af7e-2d484f030c73",
   "metadata": {
    "tags": []
   },
   "source": [
    "The couple has a few Roth conversions planned and a few more years to work. Open the Excel file to see the details. John is also planning a few Roth conversions."
   ]
  },
  {
   "cell_type": "code",
   "execution_count": null,
   "id": "7748bcf1",
   "metadata": {},
   "outputs": [],
   "source": [
    "plan1.readContributions('mary+john.xlsx')"
   ]
  },
  {
   "cell_type": "markdown",
   "id": "a66905fe-dc39-4258-a52a-ac74f9e69865",
   "metadata": {},
   "source": [
    "## What about anticipated fixed income?"
   ]
  },
  {
   "cell_type": "markdown",
   "id": "6ab893a2-d5b3-4a11-9b5d-4d9237aecc8f",
   "metadata": {
    "tags": []
   },
   "source": [
    "Mary and John have no pension and average social security benefits."
   ]
  },
  {
   "cell_type": "code",
   "execution_count": null,
   "id": "8c6e5ac9",
   "metadata": {
    "tags": []
   },
   "outputs": [],
   "source": [
    "plan1.setPension([0, 0], [65, 65])\n",
    "plan1.setSocialSecurity([30000, 26000], [70, 67])"
   ]
  },
  {
   "cell_type": "markdown",
   "id": "7503f795-923c-4468-af49-ca24792ab025",
   "metadata": {
    "tags": []
   },
   "source": [
    "## How much net annual income is desirable at retirement?"
   ]
  },
  {
   "cell_type": "markdown",
   "id": "3b04bede-5b8a-44a9-a400-b7109c58441e",
   "metadata": {
    "tags": []
   },
   "source": [
    "Mary and John desire an annual income of \\\\$80k."
   ]
  },
  {
   "cell_type": "code",
   "execution_count": null,
   "id": "67a8087a",
   "metadata": {},
   "outputs": [],
   "source": [
    "plan1.setDesiredIncome(80000, 'smile')"
   ]
  },
  {
   "cell_type": "markdown",
   "id": "1808c91d-0856-4e8e-a571-9984cf4a5505",
   "metadata": {},
   "source": [
    "## How to withdraw from spousal accounts?"
   ]
  },
  {
   "cell_type": "markdown",
   "id": "68b3418f-32e9-466c-a152-402dce5ca3af",
   "metadata": {},
   "source": [
    "Rely on ARP Lab for avoiding individual funds exhaustion."
   ]
  },
  {
   "cell_type": "code",
   "execution_count": null,
   "id": "ec9f7c76",
   "metadata": {
    "tags": []
   },
   "outputs": [],
   "source": [
    "plan1.setSpousalSplit('auto')"
   ]
  },
  {
   "cell_type": "markdown",
   "id": "a9ad4b1a-14cb-4487-8efa-d945d167282e",
   "metadata": {
    "tags": []
   },
   "source": [
    "## Specify rates of return and inflation rate"
   ]
  },
  {
   "cell_type": "markdown",
   "id": "3e94efcc-6fb3-431a-a6c9-4538f8b27229",
   "metadata": {},
   "source": [
    "Let's try coordination with a challenging year."
   ]
  },
  {
   "cell_type": "code",
   "execution_count": null,
   "id": "b53ff01e",
   "metadata": {
    "tags": []
   },
   "outputs": [],
   "source": [
    "plan1.setRates('historical', 1969)"
   ]
  },
  {
   "cell_type": "markdown",
   "id": "6ea1d7ff",
   "metadata": {
    "tags": []
   },
   "source": [
    "## What are current and future assets allocations?"
   ]
  },
  {
   "cell_type": "markdown",
   "id": "eecc3b25-ae80-4e6a-be38-1f3c66a46899",
   "metadata": {},
   "source": [
    "#### Our first per account, per individual allocation strategy."
   ]
  },
  {
   "cell_type": "code",
   "execution_count": null,
   "id": "ac78169f",
   "metadata": {},
   "outputs": [],
   "source": [
    "plan1.setInitialAR(taxable=[[60, 30, 5, 5], [60, 30, 5, 5]],\n",
    "                  taxDeferred=[[60, 30, 5, 5], [60, 30, 5, 5]],\n",
    "                  taxFree=[[60, 30, 5, 5], [60, 30, 5, 5]])\n",
    "\n",
    "plan1.setFinalAR(taxable=[[50, 30, 5, 15], [50, 30, 5, 15]],\n",
    "                taxDeferred=[[50, 30, 5, 15], [50, 30, 5, 15]],\n",
    "                taxFree=[[50, 30, 5, 15], [50, 30, 5, 15]])\n",
    "\n",
    "plan1.interpolateAR('s-curve')\n",
    "plan1.showAllocations()"
   ]
  },
  {
   "cell_type": "markdown",
   "id": "40b4b3d0-438b-44f4-931c-4837e0567c2c",
   "metadata": {},
   "source": [
    "#### Coordinating between accounts"
   ]
  },
  {
   "cell_type": "code",
   "execution_count": null,
   "id": "7323da0e-b301-4349-951e-6522b61b8524",
   "metadata": {},
   "outputs": [],
   "source": [
    "plan2 = arp.clone(plan1)\n",
    "# For coordination taking place for each individual separately.\n",
    "plan2.setCoordinatedAR(initial=[[60, 30, 5, 5], [60, 30, 5, 5]], final=[[50, 30, 5, 15], [50, 30, 5, 15]])\n",
    "\n",
    "# An interpolation must follow either call for generating the data for all the years of the simulation.\n",
    "plan2.interpolateAR('linear')\n",
    "plan2.showAllocations()"
   ]
  },
  {
   "cell_type": "markdown",
   "id": "d7bb31b3-efb5-46b7-a2d4-a008109bde8e",
   "metadata": {},
   "source": [
    "#### Coordinating between accounts and spouses\n",
    "For a single individual, `plan2` and `plan3` would lead to the same answer."
   ]
  },
  {
   "cell_type": "code",
   "execution_count": null,
   "id": "b59f6b54-b4ec-4dc0-a8f7-e7e47393a42e",
   "metadata": {},
   "outputs": [],
   "source": [
    "plan3 = arp.clone(plan1)\n",
    "\n",
    "# For coordinating both spousal accounts simultaneously.\n",
    "plan3.setCoordinatedAR(initial=[60, 30, 5, 5], final=[50, 30, 5, 15])\n",
    "\n",
    "# An interpolation must follow either call for generating the data for all the years of the simulation.\n",
    "plan3.interpolateAR('s-curve')\n",
    "plan3.showAllocations()"
   ]
  },
  {
   "cell_type": "markdown",
   "id": "c1c97249",
   "metadata": {},
   "source": [
    "## Generating the outcome of these scenarios\n",
    "We're now ready to run the single instance of each scenario!\n"
   ]
  },
  {
   "cell_type": "code",
   "execution_count": null,
   "id": "20163487",
   "metadata": {},
   "outputs": [],
   "source": [
    "arp.setVerbose(False)\n",
    "plan1.run();\n",
    "plan2.run();\n",
    "plan3.run();"
   ]
  },
  {
   "cell_type": "markdown",
   "id": "fb8f5600",
   "metadata": {},
   "source": [
    "# Analysis"
   ]
  },
  {
   "cell_type": "markdown",
   "id": "0bfe0dbd",
   "metadata": {},
   "source": [
    "### Show some of the relevant info over the years"
   ]
  },
  {
   "cell_type": "code",
   "execution_count": null,
   "id": "b6dffb3f",
   "metadata": {},
   "outputs": [],
   "source": [
    "for plan in [plan1, plan2, plan3]:\n",
    "    plan.showNetIncome();\n",
    "\n",
    "for plan in [plan1, plan2, plan3]:\n",
    "    plan.showSources();\n",
    "\n",
    "for plan in [plan1, plan2, plan3]:\n",
    "    plan.showAccounts();\n"
   ]
  },
  {
   "cell_type": "code",
   "execution_count": null,
   "id": "d0cea153-c654-4ced-bfaf-9b3145d4a923",
   "metadata": {},
   "outputs": [],
   "source": [
    "for plan in [plan1, plan2, plan3]:\n",
    "    plan.showGrossIncome();\n",
    "\n",
    "for plan in [plan1, plan2, plan3]:\n",
    "    plan.showTaxes();\n",
    "  "
   ]
  },
  {
   "cell_type": "code",
   "execution_count": null,
   "id": "80481143-e448-4956-9449-51386b623808",
   "metadata": {},
   "outputs": [],
   "source": [
    "for plan in [plan1, plan2, plan3]:\n",
    "    plan.estate(35)\n",
    "    plan.showAssetsAllocations()\n",
    "  "
   ]
  },
  {
   "cell_type": "markdown",
   "id": "d649f68a-fdbf-4f46-94e5-2953ae17cf22",
   "metadata": {},
   "source": [
    "### Asset allocation coordination strategy is able to generate about 10% more in assets at the end of their life!\n",
    "And this is done while maintaining the same overall percentage of assets allocations. This benefit is overlooked when one strictly looks at tax benefits of a Roth conversion. The reality is more complex and involves RMD's, tax that the heirs pay on the tax-deferred portion of the final assets, and the greater performance achieved in tax-free accounts. "
   ]
  }
 ],
 "metadata": {
  "kernelspec": {
   "display_name": "Python 3 (ipykernel)",
   "language": "python",
   "name": "python3"
  },
  "language_info": {
   "codemirror_mode": {
    "name": "ipython",
    "version": 3
   },
   "file_extension": ".py",
   "mimetype": "text/x-python",
   "name": "python",
   "nbconvert_exporter": "python",
   "pygments_lexer": "ipython3",
   "version": "3.11.5"
  }
 },
 "nbformat": 4,
 "nbformat_minor": 5
}
