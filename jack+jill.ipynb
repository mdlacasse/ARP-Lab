{
 "cells": [
  {
   "cell_type": "markdown",
   "id": "ca3f462e",
   "metadata": {},
   "source": [
    "# HARP Labs\n",
    "## Have Another Retirement Planning Laboratory"
   ]
  },
  {
   "cell_type": "markdown",
   "id": "3fbb38b5",
   "metadata": {},
   "source": [
    "This package is a laboratory for exploring the sensitivity of retirement financial decisions. Strictly speaking, it is not a planning tool, but more an environment to explore *what if* scenarios. It provides different realizations of a financial strategy. One can certainly have a savings plan, but due to the volatility of financial investments, it is impossible to have an asset earnings plan. This is where this tool fits it. Given your savings and spending desires, it can generate different realizations of your strategy under different market assumptions.\n",
    "\n",
    "Copyright - Martin-D. Lacasse (2023)\n",
    "\n",
    "Diclaimer: *You make your own decisions and I am not a financial planner. Use at your own risks.*"
   ]
  },
  {
   "cell_type": "markdown",
   "id": "355ed178",
   "metadata": {},
   "source": [
    "## Introduction\n",
    "This file is provided as a template to introduce you to HARP Labs. This notebook describes the case of Jack and Jill, a ficticious couple used for demonstration.\n",
    "\n",
    "For simulating your own realizations, it is best to make a copy of this file and all those beginning by *jack+jill*. Copy them keeping the same extension and give them you own names. Then you'll be able to personalize a case with your own numbers and start experimenting with HARP Labs.\n",
    "\n",
    "I assume that you have some familiarity with using a jupyter notebook, and some basic programming skills in Python."
   ]
  },
  {
   "cell_type": "markdown",
   "id": "4f1fd7ca",
   "metadata": {},
   "source": [
    "### Just some Python module bookkeeping\n",
    "These commands load the required module and set the program to display informational messages as it runs. It also makes sure that all graphs are displayed in the jupyter interface."
   ]
  },
  {
   "cell_type": "code",
   "execution_count": null,
   "id": "7744b67b",
   "metadata": {},
   "outputs": [],
   "source": [
    "%matplotlib inline\n",
    "# import harp as rp\n",
    "\n",
    "import importlib\n",
    "rp = importlib.import_module('harp')\n",
    "importlib.reload(rp)\n",
    "\n",
    "rp.setVerbose(True)"
   ]
  },
  {
   "cell_type": "markdown",
   "id": "d2d87b7e",
   "metadata": {},
   "source": [
    "## Initialize your realization\n",
    "In order to be able to generate a realization of the future, Jack and Jill must start with providing the year of birth of each spouse(s) and their expected lifespan(s).\n",
    "\n",
    "For selecting your own numbers, there are plenty of longivity predictors on the web. Pick your favorite:\n",
    "\n",
    "https://www.livingto100.com/calculator\n",
    "\n",
    "https://www.sunlife.ca/en/tools-and-resources/tools-and-calculators/life-expectancy-calculator/\n",
    "\n",
    "or just Google life expectancy calculator.\n",
    "\n",
    "There are two values needed for couples. Single individuals just enter one value in each list [ ]. For couples, keep the same order in the pair of values when entering the data. Here Jack was born in 1961 and Jill in 1964. Jack hopes to live to 89 years old, while Jill thinks she might reach age 92."
   ]
  },
  {
   "cell_type": "code",
   "execution_count": null,
   "id": "760e4a8e",
   "metadata": {},
   "outputs": [],
   "source": [
    "plan = rp.Plan(YOB=[1961, 1964], expectancy=[89, 92])"
   ]
  },
  {
   "cell_type": "markdown",
   "id": "ab0c6667",
   "metadata": {},
   "source": [
    "## Specify account balances and spousal beneficiaries\n",
    "For each spouse, savings accounts have three buckets comprising of the total value of:\n",
    "- Individual taxable investment or savings accounts, including bank accounts, and CDs - do not include your safety net account which should typically be sufficient for sustaining 6 months of living expenses\n",
    "- Tax-deferred savings accounts, including all IRAs, 401k, 403b, etc.\n",
    "- Tax-free savings accounts, including Roth IRAs and Roth 401k\n",
    "\n",
    "For married couples, each spouse will have values for each type of savings account, following the same order as before. For single individuals, only one value is needed between each paitr of brackets [ ].\n",
    "\n",
    "Most investment accounts have named beneficiaries. The beneficiary values specify the fraction of total of assets left to the other spouse at death. For example, a spouse leaving 3/4 of her fortune to her three children and the other part to her partner would have a beneficiary value of 0.25.\n",
    "\n",
    "Jack and Jill leave everything to each other as account beneficiaries as entered by [1, 1]. Jack has \\\\$90k in his taxable account, \\\\$500k in his 401k, and \\\\$80 in his Roth 401k and Roth IRAs. Jill has \\\\$40k in her savings bank account, \\\\$150k in a 403b, and \\\\$25k in Roth IRAs in which she contributed over the years."
   ]
  },
  {
   "cell_type": "code",
   "execution_count": null,
   "id": "aa9b0109",
   "metadata": {},
   "outputs": [],
   "source": [
    "plan.setAssetBalances(taxable=[90000, 40000], \n",
    "                      taxDeferred=[500000, 150000],\n",
    "                      taxFree=[80000, 25000],\n",
    "                      beneficiary=[1., 1.])"
   ]
  },
  {
   "cell_type": "markdown",
   "id": "6ea1d7ff",
   "metadata": {},
   "source": [
    "## What are current and future asset allocations?\n",
    "Each savings account can invest in 4 major classes of assets:\n",
    "- Equity funds tracking the S&P500 index\n",
    "- Bond assets tracking the Corporate bonds (Baa) index\n",
    "- Fixed-income securities represented by the performance of 10-year Treasury bonds\n",
    "- Inflation-indexed securities tracking urban Consumer Price Index (common assets).\n",
    "\n",
    "The total of percentages in each class of assets for each savings account must add to 100%.\n",
    "\n",
    "You are asked to provide an assets ratio distribution for today, and one for the end of your life.\n",
    "Values in between will be interpolated using a linear operator (for now). This can be useful\n",
    "if you want to shift assets allocation as you age.\n",
    "\n",
    "In the example below, Jack's and Jill's allocations start in full stock equities in the tax-free account,\n",
    "gradually transitioning to a traditional 60/40 portfolio towards the end of life. Their tax-deferred\n",
    "account stays as a traditional 60/40 for the duration of their lives. Asset ratios are entered in percentages."
   ]
  },
  {
   "cell_type": "code",
   "execution_count": null,
   "id": "ac78169f",
   "metadata": {},
   "outputs": [],
   "source": [
    "plan.setInitialAR(taxableAR=[[0, 25, 50, 25], [0, 25, 50, 25]],\n",
    "                  taxDeferredAR=[[60, 40, 0, 0], [60, 40, 0, 0]],\n",
    "                  taxFreeAR=[[100, 0, 0, 0], [100, 0, 0, 0]])\n",
    "\n",
    "plan.setFinalAR(taxableAR=[[0, 25, 50, 25], [0, 25, 50, 25]],\n",
    "                taxDeferredAR=[[60, 40, 0, 0], [60, 40, 0, 0]],\n",
    "                taxFreeAR=[[60, 40, 0, 0], [60, 40, 0, 0]])\n",
    "\n",
    "plan.interpolateAR('linear')"
   ]
  },
  {
   "cell_type": "markdown",
   "id": "1bcc4ca4",
   "metadata": {},
   "source": [
    "## Specify rates of return and inflation rate\n",
    "Rates of return can be specified for each class of assets, and inflation.\n",
    "Valid entries are 'historical', 'stochastic', or a list of fixed average values.\n",
    "\n",
    "For *historical* and *stochastic* data, data from 1928 to last year are available for experimenting.\n",
    "Ranges chosen smaller that the life horizon will have rate values repeated in cycle. For example,\n",
    "choosing historical data from 1994 to 1996 will repeat these three values over the time span of the realization.\n",
    "This would be called as follows\n",
    "\n",
    "    plan.setRates('hitorical', 1994, 1996)\n",
    "\n",
    "If the last time bound is not provided as the third argument, then the latest data year (i.e., last year) will be assumed by default.\n",
    "If one chooses a historical range starting from 1970, HARP will use the rates of 1970 for this year and 1971 for next, etc. This would be simulated as follows:\n",
    "\n",
    "    plan.setRates('historical', 1970)\n",
    "  \n",
    "Due to its particular sequence of rates, the worst-case known historical scenario is a retirement starting in 1966. It can be simulated as follows:\n",
    "\n",
    "    plan.setRates('historical', 1966)\n",
    "\n",
    "In this case, the  current year will have the same rates as those that happened in 1966, and next year will have those from 1967, and so on. This is given for instructional purposes only. No one should plan using the worst-case scenario. But is can be informative to test your own case. In practice, a success rate larger then 90% over a reasonable set of market assumptions should be acceptable. But this is a personal choice.\n",
    "\n",
    "On the other hand, stochastic data computes the multivariate distributions for the 4 rates in the selected year range and uses the computed distribution to generate random rate values. For example,\n",
    "\n",
    "    plan.setRates('stochastic', 1945)\n",
    "    \n",
    "will analyze the data from 1945 to the last year and compute means and covariance to generate statistically similar results. The rates randomly generated for the timespan can be plotted and examined as we will see below. Similarly,\n",
    "\n",
    "    plan.setRates('stochastic', 1940, 1970)\n",
    "\n",
    "would generate random rates consistent to what was observed during the 1940 - 1970 time period.\n",
    "    \n",
    "Finally one can also use fixed annual rates by providing a list of 4 entries as follows:\n",
    "\n",
    "    myrates = [9.6, 4.0, 3.0, 3.8]\n",
    "    plan.setRates(myrates)\n",
    "    \n",
    "This example would use fixed average annual rates of 9.6%, 4% and 3% average annual returns on S&P500, corporate bonds, Treasury bonds, and common assets, respectively, with an average annual inflation rate of 3.8%. Note gain that common assets are investments tracking inflation only.\n",
    "\n",
    "Also note that the S&P500 rates provided always include dividends, which are assumed to be reinvested.\n",
    "\n",
    "Jill is interested to know if his situation would survive a retirement started in 1969."
   ]
  },
  {
   "cell_type": "code",
   "execution_count": null,
   "id": "b53ff01e",
   "metadata": {},
   "outputs": [],
   "source": [
    "plan.setRates('historical', 1969)"
   ]
  },
  {
   "cell_type": "markdown",
   "id": "3ceb602b",
   "metadata": {},
   "source": [
    "## How much net income is desirable at retirement?\n",
    "For determining this value, retirement planners will strongly suggest that you've must have done a cashflow analysis on your yearly spending. After this exercise, you should have a good idea of how much you'll need in retirement. Another approach is to experiment with multiple spending scenarios and see what your current and future savings can sustain under different market conditions.\n",
    "\n",
    "The desired income defined here is the minimum net income (i.e., after paying taxes) that one would like to have starting at her/his \"retirement age\" (we will provide a loose definition the term *retirement age* below). This desired income must be adjusted for inflation and can follow an additional adjustment called a *smile* profile. A *smile* profile accounts for the fact that your spending capacity will modulate during retirement as you go from the so-called gogo years to the no-go years. A *flat* profile, on the other hand, will keep the same value, which will only be inflation-adjusted.\n",
    "\n",
    "The target and actual net income values achieved by the realization can be plotted as will see below.\n",
    "\n",
    "Jack and Jill believe that their spending profile will follow a *smile* curve rather than a *flat* curve. They also believe that they can be comfortable with \\\\$80k per year.   Can they afford it?"
   ]
  },
  {
   "cell_type": "code",
   "execution_count": null,
   "id": "67a8087a",
   "metadata": {},
   "outputs": [],
   "source": [
    "plan.setDesiredIncome(80000, 'smile')"
   ]
  },
  {
   "cell_type": "markdown",
   "id": "8dbdb068",
   "metadata": {},
   "source": [
    "## What about anticipated fixed income?\n",
    "Pension and social security are fixed income. Model here assumes that pension income is not inflation adjusted while social security benefits are (but HARP Labs can easily be modified to account for inflation-adjusted pensions). Entries are the predicted amount for each spouse and the age of the commencement of benefits.\n",
    "\n",
    "If there are no pension benefits, just use zeros (0) as entries, as in\n",
    "\n",
    "    plan.setPension([0, 0], [65, 65])\n",
    "    \n",
    "For social security, one must provide the predicted amount(s) and the starting age(s) at which benefits are received. There are plenty of social security benefit estimators on the web, including the info you can get directly from your own account at the Social Security Administration (ssa.gov).\n",
    "\n",
    "Here, Jill has an unindexed pension of \\\\$10k per year. Both Jack and Jill believe they have good genes and decided to take their social security benefits at age 70. The amounts provided are estimation of the amounts they would receive at age 70. "
   ]
  },
  {
   "cell_type": "code",
   "execution_count": null,
   "id": "8c6e5ac9",
   "metadata": {},
   "outputs": [],
   "source": [
    "plan.setPension([0, 10000], [65, 65])\n",
    "\n",
    "plan.setSocialSecurity([30000, 28000], [70, 70])"
   ]
  },
  {
   "cell_type": "markdown",
   "id": "4ef3e5a4",
   "metadata": {},
   "source": [
    "## There must be a plan for savings\n",
    "The most controllable part of retirement planning is the control one has over work income, contributions to savings accounts, Roth conversions, and other big spending items in the near- and mid-term future.\n",
    "In order to execute a realization, one must provide an earning, saving, and Roth conversion plan. This is done through providing an Excel workbook with one spreadsheet (tab) per spouse with the following information:\n",
    "\n",
    "|year|anticipated income|ctrb taxable | ctrb 401k | ctrb Roth 401k | ctrb IRA | ctrb Roth IRA | Roth X | big ticket items|\n",
    "|--|--|--|--|--|--|--|--|--|\n",
    "|2023 | | | | | | | | |\n",
    "|2024 | | | | | | | | |\n",
    "| ... | | | | | | | | |\n",
    "|20XX | | | | | | | | |\n",
    "\n",
    "Here, 20XX is the first year after both spouses have passed. For the columns, *anticipated income* is the annual amount (gross) that you anticipate to receive from employement or other sources (not including dividends from your taxable investment account). Note that column names are case sensitive and all of these entries must be in lower case. Best way to start is to use the template provided rightly named *template.xlsx*.\n",
    "\n",
    "For the purpose of this exercise, there is no clear definition of retirement age. There will be a year, however, from which you will stop having anticipated income, or diminished income due to decreasing your work load. This transition can be gradual or sudden. Therefore there is no need to enter a retirement age for the sole purpose of quantifying your financial future.\n",
    "\n",
    "Contributions to your savings accounts are marked as *ctrb*. Contributions to your 401k must also include your employer's contributions. As this file is in excel, one can use the calculator to enter a percentage of the anticipated income as this can sometimes be easier.\n",
    "\n",
    "Roth conversion are specified in the column marked *Roth X*. Roth conversion are typically performed in the years when the income is lower (and therefore lower tax rates), typically in the bridge years between having a full-time regular salary and collecting social security. Finally, *big ticket items* are used for accounting for the sale or purchase of a house, or any other major expense or money that you would give or receive (e.g., inheritance, or large gifts to or from you). Therefore, the sign (+/-) of entries in this column is important. All other column entries should be positive.\n",
    "\n",
    "The tab name for each spreadsheet represents the name of the spouse for reporting yearly transactions affecting your plan. So for Jack and Jill, this worksheet file needs two tabs, the first one named *Jack* and the second one named *Jill*, following the same order of data provided before. In fact, HARP Labs uses the names of these tabs to determine the individuals' names.\n",
    "\n",
    "Note that the file format from the (free) LibreOffice software can also be read, so you do not need to have an Excel license.\n",
    "\n",
    "Jack and Jill has provided their specific information in the file *jack+jill.xlsx*. Open this file in Excel and familiarize yourself with its contents."
   ]
  },
  {
   "cell_type": "code",
   "execution_count": null,
   "id": "7748bcf1",
   "metadata": {},
   "outputs": [],
   "source": [
    "plan.readContributions('jack+jill.xlsx')"
   ]
  },
  {
   "cell_type": "markdown",
   "id": "b99b6d05",
   "metadata": {},
   "source": [
    "## How to withdraw from spousal accounts?\n",
    "It can be desirable for couples to determine how to make distributions from each spousal account.\n",
    "By specifying an *auto* spousal split, the withdrawals from the retirement savings accounts will be made proportial to their respective balances. It can also be specified as a fixed fractional value (e.g., 0.65) in which case 0.65 will be taken from the first account and the other 35% taken from the other (second entry) spouse.\n",
    "\n",
    "All withdrawals use a smart banking approach which favors depleting taxable accounts before tax-deferred, before tax-free. With *auto*, additional checks and bounds are used to better coordinate the spousal accounts. Jack and Jill decide to rely o HARP to make the right decision on their behalf."
   ]
  },
  {
   "cell_type": "code",
   "execution_count": null,
   "id": "ec9f7c76",
   "metadata": {},
   "outputs": [],
   "source": [
    "plan.setSpousalSplit('auto')"
   ]
  },
  {
   "cell_type": "markdown",
   "id": "c1c97249",
   "metadata": {},
   "source": [
    "## Run calculations\n",
    "We're ready!\n",
    "\n",
    "This final call runs all the required calculations for the time horizon set by the life expectancies of Jack and Jill."
   ]
  },
  {
   "cell_type": "code",
   "execution_count": null,
   "id": "20163487",
   "metadata": {},
   "outputs": [],
   "source": [
    "plan.run();"
   ]
  },
  {
   "cell_type": "markdown",
   "id": "fb8f5600",
   "metadata": {},
   "source": [
    "# Analysis"
   ]
  },
  {
   "cell_type": "markdown",
   "id": "0bfe0dbd",
   "metadata": {},
   "source": [
    "### Show net income compared to target income over the years\n",
    "This graph shows how the actual net income generated by the plan realization matches the inflation-adjusted net income profile specified."
   ]
  },
  {
   "cell_type": "code",
   "execution_count": null,
   "id": "b6dffb3f",
   "metadata": {},
   "outputs": [],
   "source": [
    "plan.plotNetIncome();"
   ]
  },
  {
   "cell_type": "markdown",
   "id": "460f5547",
   "metadata": {},
   "source": [
    "### Show sources of income over the years\n",
    "Income will be typically coming from mutiple sources, and it can be quite complex. This graphs shows the breakdown of Jack's and Jill's sources of income by spouse and by origin. Note that distributions from tax-deferred accounts (*dist*) are distinguished from required minimum distributions (*rmd*) as they serve different purposes. Other labels should be self-expanatory."
   ]
  },
  {
   "cell_type": "code",
   "execution_count": null,
   "id": "f74ec825",
   "metadata": {},
   "outputs": [],
   "source": [
    "plan.plotSources();"
   ]
  },
  {
   "cell_type": "markdown",
   "id": "8d997ff3",
   "metadata": {},
   "source": [
    "### Show savings accounts balances at the beginning of each year\n",
    "The balance for each savings account for each spouse is calculated at the beginning of each year. Another important aspect of this graph is how much is left at the end of the realization. This will be addressed in the next cell."
   ]
  },
  {
   "cell_type": "code",
   "execution_count": null,
   "id": "6b9a9e62",
   "metadata": {},
   "outputs": [],
   "source": [
    "plan.plotAccounts();"
   ]
  },
  {
   "cell_type": "markdown",
   "id": "8ae26e4d",
   "metadata": {},
   "source": [
    "To get more information about the last year of the realization, one can use\n",
    "\n",
    "    plan.estate(30)\n",
    "    \n",
    "which returns the value of the estate, assuming (in this case) a 30\\% tax burden on the taxable portion of the estate (read tax-deferred savings accounts). The `estate()` function returns two values: the total post-tax value of all savings account in today's dollars and the cumulative inflation rate between today and the last day of the realization. Here we also use utility functions to properly display dollar (`rp.d()`) and percentage (`rp.pc()`) values provided by the HARP module."
   ]
  },
  {
   "cell_type": "code",
   "execution_count": null,
   "id": "eedb9d78",
   "metadata": {},
   "outputs": [],
   "source": [
    "total, percent = plan.estate(30)\n",
    "print(rp.d(total), rp.pc(percent))"
   ]
  },
  {
   "cell_type": "markdown",
   "id": "1fad7e21",
   "metadata": {},
   "source": [
    "### Show annual taxes paid over the years of the realization\n",
    "This graph shows how much Jack and Jill paid in federal taxes and IRMAA income-related Medicare insurance monthly adjustments over the years of this realization."
   ]
  },
  {
   "cell_type": "code",
   "execution_count": null,
   "id": "a95dad48",
   "metadata": {},
   "outputs": [],
   "source": [
    "plan.plotTaxes();"
   ]
  },
  {
   "cell_type": "markdown",
   "id": "8123cbc2",
   "metadata": {},
   "source": [
    "### Show taxable annual income and anticipated tax brackets\n",
    "Gross income also includes Roth conversions and big-ticket items, both of which are not contributing to your net income. This graph shows Jack and Jill's gross taxable income and how it compare with some anticipated Federal tax marginal brackets. This visualization is very convenient when one wants to perform Roth conversions and remain below a certain tax bracket.\n",
    "\n",
    "Note the shift in tax brackets taking place as the Tax Cut and Job Act expires after 2025."
   ]
  },
  {
   "cell_type": "code",
   "execution_count": null,
   "id": "2e305502",
   "metadata": {
    "scrolled": true
   },
   "outputs": [],
   "source": [
    "plan.plotTaxableIncome();"
   ]
  },
  {
   "cell_type": "markdown",
   "id": "2785e1c5",
   "metadata": {},
   "source": [
    "### Show annual rates used for calculations\n",
    "As described above, there are many choices for selecting rates. This graph will display the annual rates used during the time span of this realization."
   ]
  },
  {
   "cell_type": "code",
   "execution_count": null,
   "id": "81cec974",
   "metadata": {
    "scrolled": true
   },
   "outputs": [],
   "source": [
    "plan.plotRates();"
   ]
  },
  {
   "cell_type": "markdown",
   "id": "96d1dd05",
   "metadata": {},
   "source": [
    "## Do we save this realization?\n",
    "This realization contains information on the distribution amounts, including the required minimum distribution that had to be performed under the given assuptions. This info can be saved in an excel workbook with one spreadsheet (tab) for Jack and one for Jill."
   ]
  },
  {
   "cell_type": "code",
   "execution_count": null,
   "id": "7e25fdb7",
   "metadata": {},
   "outputs": [],
   "source": [
    "# plan.saveRealizationXL('Jack and Jill')"
   ]
  },
  {
   "cell_type": "markdown",
   "id": "07c1a065",
   "metadata": {},
   "source": [
    "## Next level\n",
    "The flexibility of HARP Labs allows for scripting Monte-Carlo simulations by embedding the calls described above in an iterative script. In those simulations, multiple instances are executed to further explore the robustness of one's decisions under different market realizations.\n",
    "\n",
    "The script *jack+jill.py* is intended for that purpose and is provided as an example. It showcases two possibilities. In the first one, historical data is used to explore how the plan survives the test of historical rates from 1928 to the most recent past. The other capability shows a Monte-Carlo approach to generate ficticious rates derived from the statistical distribution of those observed in a selected time period.\n",
    "\n",
    "This script is a template for designing your own. It can be run through the command line, but they can also be run from jupyter using the %run function. Let' delve into these capabilities.\n"
   ]
  },
  {
   "cell_type": "markdown",
   "id": "0c722518",
   "metadata": {},
   "source": [
    "### Historical comparisons\n",
    "When run with the *historical argument*, the script runs Jack's and Jill's scenario through historical data starting from 1930 to 1986. Note how their planned scenario is successful in all years except 1966 and 1969 if they are willing to spend \\\\$79,500 as inflation-adjusted net income. "
   ]
  },
  {
   "cell_type": "code",
   "execution_count": null,
   "id": "38c55252",
   "metadata": {},
   "outputs": [],
   "source": [
    "%run jack+jill.py historical"
   ]
  },
  {
   "cell_type": "markdown",
   "id": "41934da3",
   "metadata": {},
   "source": [
    "### Monte-Carlo simulations\n",
    "In a Monte-Carlo simulation, a random number generator is used to create values that meet the statistical criterion of a known distribution. In HARP Labs, one specifies the range of years of historical data that will be used to characterize the probability distribution of the normal distribution. Once selected, one can run as many realization as desired. The more is generally the better, as it will improve the mean while increasing the possibility of observing rare events. A value of 1,000 is generally sufficient. Open the script to see what range of years were used to derive the statistical distribution."
   ]
  },
  {
   "cell_type": "code",
   "execution_count": null,
   "id": "8e0e00d4",
   "metadata": {},
   "outputs": [],
   "source": [
    "%run jack+jill.py Monte-Carlo 1000"
   ]
  }
 ],
 "metadata": {
  "kernelspec": {
   "display_name": "Python 3 (ipykernel)",
   "language": "python",
   "name": "python3"
  },
  "language_info": {
   "codemirror_mode": {
    "name": "ipython",
    "version": 3
   },
   "file_extension": ".py",
   "mimetype": "text/x-python",
   "name": "python",
   "nbconvert_exporter": "python",
   "pygments_lexer": "ipython3",
   "version": "3.11.4"
  }
 },
 "nbformat": 4,
 "nbformat_minor": 5
}
