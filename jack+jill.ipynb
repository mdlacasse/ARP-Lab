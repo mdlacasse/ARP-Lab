{
 "cells": [
  {
   "cell_type": "markdown",
   "id": "ca3f462e",
   "metadata": {},
   "source": [
    "# HARP\n",
    "## Have Another Retirement Planner"
   ]
  },
  {
   "cell_type": "markdown",
   "id": "3fbb38b5",
   "metadata": {},
   "source": [
    "This package is a laboratory for exploring the sensitivity of retirement financial decisions. It is not a planning tool, but more an environment to explore *what if* scenarios.\n",
    "\n",
    "Diclaimer: *You make your own decisions and I am not a financial planner. Use at your own risks.*"
   ]
  },
  {
   "cell_type": "markdown",
   "id": "4f1fd7ca",
   "metadata": {},
   "source": [
    "### Just some Python module bookkeeping"
   ]
  },
  {
   "cell_type": "code",
   "execution_count": null,
   "id": "7744b67b",
   "metadata": {},
   "outputs": [],
   "source": [
    "%matplotlib inline\n",
    "# import harp as rp\n",
    "\n",
    "import importlib\n",
    "rp = importlib.import_module('harp')\n",
    "importlib.reload(rp)\n",
    "\n",
    "rp.setVerbose(True)"
   ]
  },
  {
   "cell_type": "markdown",
   "id": "d2d87b7e",
   "metadata": {},
   "source": [
    "## Initialize our plan\n",
    "Plan must start with providing the year of birth of each of the spouse(s) and their expected lifespan(s).\n",
    "\n",
    "There are plenty of longivity predictors on the web. Pick your favorite:\n",
    "\n",
    "https://www.livingto100.com/calculator\n",
    "\n",
    "https://www.sunlife.ca/en/tools-and-resources/tools-and-calculators/life-expectancy-calculator/\n",
    "\n",
    "or just Google life expectancy calculator.\n",
    "\n",
    "There are two values needed for couples. Single individuals just enter one value in each list [ ]. For couples, keep the same order in the pair of values when entering the data. Here Jack was born in 1961 and Jill in 1964. Jack hopes to live to 89 years old, while Jill thinks she might reach age 92."
   ]
  },
  {
   "cell_type": "code",
   "execution_count": null,
   "id": "760e4a8e",
   "metadata": {},
   "outputs": [],
   "source": [
    "plan = rp.Plan(YOB=[1961, 1964], expectancy=[89, 92])"
   ]
  },
  {
   "cell_type": "markdown",
   "id": "ab0c6667",
   "metadata": {},
   "source": [
    "## Specify account balances and spousal beneficiaries\n",
    "For each spouse, accounts have three buckets comprising of the total value of:\n",
    "- Individual taxable investment accounts, including bank accounts, and CDs\n",
    "- Tax-deferred accounts, including all IRAs, 401k, 403b, etc.\n",
    "- Tax-free accounts, including Roth IRAs and Roth 401k\n",
    "\n",
    "For spouses, there are two values for each type of account, one for each spouse following the same order as before. For single individuals, only one value needs to be entered between each [ ].\n",
    "\n",
    "The beneficiary values specify the fraction of total of assets left to the other spouse at death. For example, a spouse leaving 3/4 of her fortune to her three children and the other part to her partner would have a beneficiary value of 0.25.\n",
    "\n",
    "Jack and Jill leave everything to each other as account beneficiaries ([1, 1]). Jack has \\\\$90k in his taxable account, \\\\$500k in his 401k, and \\\\$80 in his Roth 401k and Roth IRAs. Jill has \\\\$40k in her bank account, \\\\$150k in a 403b, and \\\\$25k in Roth IRAs in which she contributed over the years."
   ]
  },
  {
   "cell_type": "code",
   "execution_count": null,
   "id": "aa9b0109",
   "metadata": {},
   "outputs": [],
   "source": [
    "plan.setAssetBalances(taxable=[90000, 40000], \n",
    "                      taxDeferred=[500000, 150000],\n",
    "                      taxFree=[80000, 25000],\n",
    "                      beneficiary=[1., 1.])"
   ]
  },
  {
   "cell_type": "markdown",
   "id": "6ea1d7ff",
   "metadata": {},
   "source": [
    "## What are current and future asset allocations?\n",
    "Each account can invest in 4 major asset classes:\n",
    "- Equity funds tracking the S&P500 index\n",
    "- Bond assets tracking the Corporate bonds (Baa) index\n",
    "- Fixed-income securities represented by 10-year Treasury bonds\n",
    "- Inflation-indexed securities tracking urban Consumer Price Index (common assets)\n",
    "\n",
    "The total of percentages in each class of asset for each account must add to 100%.\n",
    "\n",
    "You are asked to provide an asset distribution for today, and one for the end of your life.\n",
    "Values in between will be interpolated using a linear operator (for now). This can be useful\n",
    "if you want to shift asset allocation as you age.\n",
    "\n",
    "In the example below, allocation starts in full stock equities in the tax-free account,\n",
    "gradually transitioning to a traditional 60/40 portfolio towards the end of life. "
   ]
  },
  {
   "cell_type": "code",
   "execution_count": null,
   "id": "ac78169f",
   "metadata": {},
   "outputs": [],
   "source": [
    "plan.setInitialAR(taxableAR=[[0, 25, 50, 25], [0, 25, 50, 25]],\n",
    "                  taxDeferredAR=[[60, 40, 0, 0], [60, 40, 0, 0]],\n",
    "                  taxFreeAR=[[100, 0, 0, 0], [100, 0, 0, 0]])\n",
    "\n",
    "plan.setFinalAR(taxableAR=[[0, 25, 50, 25], [0, 25, 50, 0]],\n",
    "                taxDeferredAR=[[60, 40, 0, 0], [60, 40, 0, 0]],\n",
    "                taxFreeAR=[[60, 40, 0, 0], [60, 40, 0, 0]])\n",
    "\n",
    "plan.interpolateAR('linear')"
   ]
  },
  {
   "cell_type": "markdown",
   "id": "1bcc4ca4",
   "metadata": {},
   "source": [
    "## Specify rates of return and inflation rate\n",
    "Rates of return can be specified for each class of assets, and inflation.\n",
    "Valid entries are 'historical', 'stochastic', or a list of average values.\n",
    "\n",
    "For historical and stochastic data, data from 1928 to today is available for experimenting.\n",
    "Ranges chosen smaller that the life horizon will have rate values repeated in cycle. For example,\n",
    "choosing historical data from 1994 to 1996 will repeat these three values over the timespan of the plan.\n",
    "\n",
    "Choosing a historical range of 1970 to 2022, will use the rates of 1970 for this year and 1971 for next, etc. Worst-case scenario is a retirement starting in 1966. It can be simulated as follows:\n",
    "\n",
    "    plan.setRates('historical', 1966, 2022)\n",
    "    \n",
    "Stochastic data on the other hand computes the multivariate distributions for the 4 rates in a range selected. For example,\n",
    "\n",
    "    plan.setRates('stochastic', 1945, 2022)\n",
    "    \n",
    "will analyze the data from 1945 to 2022 and compute means and covariance to generate statistically similar results. The stochastic rates generated for the timespan can be plotted as we will see below.\n",
    "    \n",
    "One can also use fixed rates by providing a list of 4 entries as follows:\n",
    "\n",
    "    myrates = [9.6, 4.0, 3.0, 3.8]\n",
    "    plan.setRates(myrates)\n",
    "    \n",
    "This example would use a fixed average rates of 9.6%, 4% and 3% average return on S&P500, corporate bonds, Treasury bonds, and common assets, respectively, with an average inflation rate of 3.8%. Common assets are investments tracking inflation only.\n",
    "\n",
    "Note that the S&P500 rates provided always include dividends."
   ]
  },
  {
   "cell_type": "code",
   "execution_count": null,
   "id": "b53ff01e",
   "metadata": {},
   "outputs": [],
   "source": [
    "plan.setRates('historical', 1969, 2022)\n",
    "# plan.setRates([8, 4, 4, 3])"
   ]
  },
  {
   "cell_type": "markdown",
   "id": "3ceb602b",
   "metadata": {},
   "source": [
    "## What is your desired net income at retirement?\n",
    "For determining this value, retirement planners will strongly suggest that you've must have done a cashflow analysis on your yearly spending. After this exercise, you should have a good idea of how much you'll need in retirement.\n",
    "\n",
    "The desired income here is the net income (i.e., after paying taxes) that you would like to have starting at your retirement age. This income is adjusted for inflation and can follow an additional adjustment called a *smile* profile. A *smile* profile accounts for the fact that your spending capacity will modulate during retirement as you go from the so-called gogo years to the no-go years. A *flat* profile, on the other hand, will keep the same value, which will only be inflation-adjusted.\n",
    "\n",
    "The target and actual net income values achieved by the plan can be plotted as will see below."
   ]
  },
  {
   "cell_type": "code",
   "execution_count": null,
   "id": "67a8087a",
   "metadata": {},
   "outputs": [],
   "source": [
    "# Enter desired value for net income, and spending profile.\n",
    "plan.setDesiredIncome(75000, 'smile')"
   ]
  },
  {
   "cell_type": "markdown",
   "id": "8dbdb068",
   "metadata": {},
   "source": [
    "## You must also have some fixed income?\n",
    "Pension and social security are fixed income. Model here assumes that pension is not inflation adjusted while social security benefits are (but code can easily be modified to account for inflation-adjusted pensions). Entries are the predicted amount for each spouse and the age of the commencement of benefits.\n",
    "\n",
    "If you have no pension, just use zeros (0) as entries, as in\n",
    "\n",
    "    plan.setPension([0, 0], [65, 65])\n",
    "    \n",
    "For social security, you must provide the predicted amount(s) and the age(s) at which you start receiving benefits. There are plenty of social security benefit estimators on the web, including the info you can get directly from your own account at the Social Security Administration (ssa.gov).\n",
    "\n",
    "Here Jill has an unindexed pension of \\\\$10k per year. Both Jack and Jill decided to take their social security benefits at age 70. The amount provided are estimation of the amounts they would receive at age 70. "
   ]
  },
  {
   "cell_type": "code",
   "execution_count": null,
   "id": "8c6e5ac9",
   "metadata": {},
   "outputs": [],
   "source": [
    "plan.setPension([0, 10000], [65, 65])\n",
    "\n",
    "plan.setSocialSecurity([30000, 28000], [70, 70])"
   ]
  },
  {
   "cell_type": "markdown",
   "id": "4ef3e5a4",
   "metadata": {},
   "source": [
    "## Provide work income, contributions, Roth conversions, and other items by year\n",
    "In order to get a plan, you must provide an Excel workbook with one spreadsheet (tab) per spouse with the following information:\n",
    "\n",
    "|year|anticipated income|ctrb taxable | ctrb 401k | ctrb Roth 401k | ctrb IRA | ctrb Roth IRA | Roth X | big ticket items|\n",
    "|--|--|--|--|--|--|--|--|--|\n",
    "|2023 | | | | | | | | |\n",
    "|2024 | | | | | | | | |\n",
    "| ... | | | | | | | | |\n",
    "|20XX | | | | | | | | |\n",
    "\n",
    "Here, 20XX is the first year after both spouses have passed. For the columns, *anticipated income* is the annual amount (gross) that you anticipate to receive from employement or other sources (not including dividends from your taxable investment account). Note that column names are case sensitive and all of these entries must be in lower case.\n",
    "\n",
    "Contributions to your savings accounts are marked as *ctrb*. Contributions to your 401k must also include your employer's contributions. Being in excel, you can use the calculator to enter percentage of your anticipated income if that is easier for you. \n",
    "Files format from the LibreOffice software can also be read.\n",
    "\n",
    "Roth conversion are specified in the column marked *Roth X*. Finally, *big ticket items* are the sale or purchase of a house, or any other major expense or money that you would give or receive (e.g., inheritance, or large gifts to or from you). Therefore, the sign (+/-) of entries in this column is important. All other column entries should be positive.\n",
    "\n",
    "The TAB name for each spreadsheet represents the name of the spouse for reporting transactions affecting your plan. So for Jack and Jill, this worksheet file would have two tabs, the first one named *Jack* and the second one named *Jill*, following the same order of data provided before.\n",
    "\n",
    "An Jack and Jill provided their information in the file *jack+jill.xlsx*."
   ]
  },
  {
   "cell_type": "code",
   "execution_count": null,
   "id": "7748bcf1",
   "metadata": {},
   "outputs": [],
   "source": [
    "plan.readContributions('jack+jill.xlsx')"
   ]
  },
  {
   "cell_type": "markdown",
   "id": "b99b6d05",
   "metadata": {},
   "source": [
    "## How do you want to withdraw from you and your spouse's accounts?\n",
    "By specifying an *auto* spousal split, the withdrawals from the retirement accounts will be made proportial to their respective balances. It can also be specified as a fractional value (e.g., 0.65) in which case 0.65 will be taken from the first account and the other 35% taken from the other (second entry) spouse.\n",
    "\n",
    "All withdrawals use a smart banking approach which favors depleting taxable accounts before tax-deferred, before tax-free. With *auto*, additional checks and bounds are used to coordinate the spousal accounts."
   ]
  },
  {
   "cell_type": "code",
   "execution_count": null,
   "id": "ec9f7c76",
   "metadata": {},
   "outputs": [],
   "source": [
    "plan.setSpousalSplit('auto')"
   ]
  },
  {
   "cell_type": "markdown",
   "id": "c1c97249",
   "metadata": {},
   "source": [
    "## Run calculations\n",
    "We're ready!\n",
    "\n",
    "This call runs the calculations for the time horizon set by the life expectancy of individual(s)."
   ]
  },
  {
   "cell_type": "code",
   "execution_count": null,
   "id": "20163487",
   "metadata": {},
   "outputs": [],
   "source": [
    "plan.run();"
   ]
  },
  {
   "cell_type": "markdown",
   "id": "fb8f5600",
   "metadata": {},
   "source": [
    "# Analysis"
   ]
  },
  {
   "cell_type": "markdown",
   "id": "0bfe0dbd",
   "metadata": {},
   "source": [
    "### Show net income compared to target over the years"
   ]
  },
  {
   "cell_type": "code",
   "execution_count": null,
   "id": "b6dffb3f",
   "metadata": {},
   "outputs": [],
   "source": [
    "plan.plotNetIncome();"
   ]
  },
  {
   "cell_type": "markdown",
   "id": "460f5547",
   "metadata": {},
   "source": [
    "### Show sources of income over the years"
   ]
  },
  {
   "cell_type": "code",
   "execution_count": null,
   "id": "f74ec825",
   "metadata": {
    "scrolled": false
   },
   "outputs": [],
   "source": [
    "plan.plotSources();"
   ]
  },
  {
   "cell_type": "markdown",
   "id": "8d997ff3",
   "metadata": {},
   "source": [
    "### Show account balances at the beginning of each year"
   ]
  },
  {
   "cell_type": "code",
   "execution_count": null,
   "id": "6b9a9e62",
   "metadata": {},
   "outputs": [],
   "source": [
    "plan.plotAccounts();"
   ]
  },
  {
   "cell_type": "markdown",
   "id": "1fad7e21",
   "metadata": {},
   "source": [
    "### Show annual taxes paid over the years"
   ]
  },
  {
   "cell_type": "code",
   "execution_count": null,
   "id": "a95dad48",
   "metadata": {},
   "outputs": [],
   "source": [
    "plan.plotTaxes();"
   ]
  },
  {
   "cell_type": "markdown",
   "id": "8123cbc2",
   "metadata": {},
   "source": [
    "### Show taxable annual income and anticipated tax brackets"
   ]
  },
  {
   "cell_type": "code",
   "execution_count": null,
   "id": "2e305502",
   "metadata": {
    "scrolled": true
   },
   "outputs": [],
   "source": [
    "plan.plotTaxableIncome();"
   ]
  },
  {
   "cell_type": "markdown",
   "id": "2785e1c5",
   "metadata": {},
   "source": [
    "### Show annual rates used for calculations"
   ]
  },
  {
   "cell_type": "code",
   "execution_count": null,
   "id": "81cec974",
   "metadata": {
    "scrolled": true
   },
   "outputs": [],
   "source": [
    "plan.plotRates();"
   ]
  },
  {
   "cell_type": "markdown",
   "id": "96d1dd05",
   "metadata": {},
   "source": [
    "## Do we save this plan?\n",
    "The plan contains a lot of information on the distribution amounts, including the required minimum distribution that had to be performed under the given assuptions. This info can be saved in an excel workbook with one spreadsheet (tab) for Jack and one for Jill."
   ]
  },
  {
   "cell_type": "code",
   "execution_count": null,
   "id": "7e25fdb7",
   "metadata": {},
   "outputs": [],
   "source": [
    "# plan.savePlanXL('Jack and Jill')"
   ]
  }
 ],
 "metadata": {
  "kernelspec": {
   "display_name": "Python 3 (ipykernel)",
   "language": "python",
   "name": "python3"
  },
  "language_info": {
   "codemirror_mode": {
    "name": "ipython",
    "version": 3
   },
   "file_extension": ".py",
   "mimetype": "text/x-python",
   "name": "python",
   "nbconvert_exporter": "python",
   "pygments_lexer": "ipython3",
   "version": "3.11.4"
  }
 },
 "nbformat": 4,
 "nbformat_minor": 5
}
