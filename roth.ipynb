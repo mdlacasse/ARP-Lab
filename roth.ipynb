{
 "cells": [
  {
   "cell_type": "markdown",
   "id": "ca3f462e",
   "metadata": {},
   "source": [
    "# ARP Lab\n",
    "## A Retirement Planning Laboratory"
   ]
  },
  {
   "cell_type": "markdown",
   "id": "3fbb38b5",
   "metadata": {},
   "source": [
    "This package is a retirement modeling framework for exploring the sensitivity of retirement financial decisions. Strictly speaking, it is not a planning tool, but more an environment for exploring *what if* scenarios. It provides different realizations of a financial strategy. One can certainly have a savings plan, but due to the volatility of financial investments, it is impossible to have a certain asset earnings plan. This does not mean one cannot make decisions. These decisions need to be guided with an understanding of the sensitivity of the parameters.This is exactly where this tool fits it. Given your savings and spending desires, it can generate different future realizations of your strategy under different market assumptions, helping to better understand your financial situation.\n",
    "\n",
    "Copyright - Martin-D. Lacasse (2023)\n",
    "\n",
    "Disclaimers: *I am not a financial planner. You make your own decisions. This program comes with no guarantee. Use at your own risk.*"
   ]
  },
  {
   "cell_type": "markdown",
   "id": "6d1e3334-beaf-4a38-905b-0cf00c3c4eaa",
   "metadata": {},
   "source": [
    "# Exploring the complex effects of Roth conversions"
   ]
  },
  {
   "cell_type": "markdown",
   "id": "a738e9ba-8567-4268-8724-79b112612065",
   "metadata": {},
   "source": [
    "In this short notebook, we will explore the subtle effects of Roth conversions.\n",
    "\n",
    "A common argument made about Roth conversions is that their benefits only depend on the tax rate now vs. the tax rate in the future. Mathematically, we have an amount of savings $A$ in a tax-deferred account yielding an average annual return rate $r$ over $n$ years. The nominal value of our savings at year $n$ will be denoted $A_n$, and can be expressed as follows,\n",
    "\n",
    "$ A_n = A (1 + r)^n. $\n",
    "\n",
    "If we withdraw $A_n$ after $n$ years, it will be subject to a tax rate $t_n$. Let's call this net amount $B_n$ obtained after withdrawing the money and paying income tax on it,\n",
    "\n",
    "$B_n = A_n (1 - t_n) = A (1 + r)^n (1 - t_n).$\n",
    "\n",
    "If on the other hand, we convert the money today at a tax rate \\$t_0\\$, we would invest $A (1 - t_0)$ in a tax-free account that would grow at the same rate $r$ during $n$ years. The resulting amount $B'_n$ would then be:\n",
    "\n",
    "$B'_n = A (1-t_0) (1 + r)^n = A (1+r)^n (1-t_0).$\n",
    "\n",
    "Comparing the two last equations, it should be clear that if $t_0 = t_n$, then $B_n = B'_n$ due to the commutative property of multiplications.\n",
    "\n",
    "The common conclusion drawn from this argument is that unless the tax rate today is smaller than the tax rate in the future, i.e., unless $t_0 < t_n$, which would imply that $B'_n > B_n$, then there is no benefit in performing a Roth conversion. It is often argued that the income at retirement will be lower than during active life, and therefore the tax rate will be lower in retirement, provided the tax code stays as it is. However, speculations about future tax rates, some of which having some merit, are then brought up. For example, it is observed that the historical income tax rates in the US are not sustainable given the mandatory spending of the US government, especially regarding an aging population. To support this point, historical data on income tax rates are shown to support the hypothesis that tax rates are likely to increase in the future. The following figure shows how marginal tax rates have decreased during the last 50 years, as a supporting evidence that an increase of income tax are likely in the future.\n",
    "![US historical income tax rate](images/USIncomeTaxMarginalRates.png)\n",
    "\n",
    "So what is wrong with this argument? Nothing. The argument is valid, the assumptions are not. Here are the hidden assumptions:\n",
    "- The rate of return $r$ is constant in time. **It is obviously not.**\n",
    "- The income at retirement is likely to be less than during one's active life, and therefore income taxes during retirement will be lower. **This is not the case if the required minimum distributions (RMDs) are large.** This is particularly true for individuals having large tax-deferred accounts.\n",
    "- The rate of return in a tax-deferred account is the same as the one in a tax-free account. **Not necessarily, in fact they shouldn't be.** For tax and risk management, the distribution of assets in these accounts should definitely not be the same as both withdrawals and investments from and in these accounts should be coordinated. An easy strategy is to keep the high-risk/high-reward assets in the tax-free account, which is likely to be depleted last, and put the less volatile assets in the tax-deferred account. This means that $r$ for the tax-deferred account will definitely not be the same as the one for the tax-free account.\n",
    "\n",
    "ARP Lab is not free of assumptions. Future tax rates are known until 2025. For after 2025, we assume that the tax code of 2017 becomes active after the expiration of the TCJA (expiring in 2025). Income brackets are indexed for inflation, which rate is speculated through the rates selected (e.g., historical, fixed, or statistical) by the user.\n",
    "\n",
    "Let's investigate this in more detail by using a few specific examples. We will be using historical data and a heuristic Roth optimizer. Note that this optimizer is not trying to get the maximum income during retirement. Instead, it tries to maximize the estate under the constraint that the desired net income will be matched. Because Clyde and Bonnie have sufficient assets, they believe that they can live comfortably while leaving some money to their heirs. The goal is therefore to maximize the estate, under the assumption that a certain income tax rate will apply when heirs withdraw the money from the tax-deferred account. This rate is not an estate tax, it is an income tax rate on the tax-deferred portion of the estate."
   ]
  },
  {
   "cell_type": "markdown",
   "id": "4f1fd7ca",
   "metadata": {},
   "source": [
    "### Loading the modules - housekeeping\n",
    "Let's start with some housekeeping. The following commands load the required module and set the program to display informational messages as it runs. It also makes sure that all graphs are properly displayed within the jupyter interface."
   ]
  },
  {
   "cell_type": "code",
   "execution_count": null,
   "id": "7744b67b",
   "metadata": {},
   "outputs": [],
   "source": [
    "%matplotlib inline\n",
    "import arp\n",
    "\n",
    "arp.setVerbose(True)"
   ]
  },
  {
   "cell_type": "markdown",
   "id": "3fb40afb-468d-49d6-8ea6-1c40477720b4",
   "metadata": {},
   "source": [
    "## Initialize"
   ]
  },
  {
   "cell_type": "markdown",
   "id": "0fb31825-da92-45f8-8b36-ff6abf7b1871",
   "metadata": {},
   "source": [
    "We start with a couple having a little over \\\\$2M in assets. As is common, one spouse can have significantly more assets than the other. Here, Bonnie enjoyed high wages and generous benefits from her employer, while Clyde had an equally enjoyable but less lucrative career. Let's assume that Clyde and Bonnie are about 5 years from retirement. Bonnie is born in 64, while Clyde is two years younger. Their life expectancy is assumed to be a few years longer than average for their age."
   ]
  },
  {
   "cell_type": "code",
   "execution_count": null,
   "id": "760e4a8e",
   "metadata": {},
   "outputs": [],
   "source": [
    "plan = arp.Plan(YOB=[1964, 1966], expectancy=[87, 84])"
   ]
  },
  {
   "cell_type": "markdown",
   "id": "1c5ce60c-9886-4b58-84aa-d6168f5c216e",
   "metadata": {},
   "source": [
    "## Assets balances in each type of savings accounts\n",
    "You should be familiar with this command by now. Clyde has \\\\$100 k in her taxable savings account, \\\\$2 M in her 401k, and \\\\$120 k in a Roth 401k account. Clyde has \\\\$50 k in is taxable savings account, \\\\$400 k in a 403b, and \\\\$25 k in a Roth IRA. They leave everything to each others, indicated by the full fraction 1.  as beneficiaries."
   ]
  },
  {
   "cell_type": "code",
   "execution_count": null,
   "id": "aa9b0109",
   "metadata": {},
   "outputs": [],
   "source": [
    "plan.setAssetBalances(taxable=[100000, 50000], \n",
    "                       taxDeferred=[2000000, 400000],\n",
    "                       taxFree=[120000, 25000],\n",
    "                       beneficiary=[1, 1])"
   ]
  },
  {
   "cell_type": "markdown",
   "id": "029acbc5-419a-41b1-89d9-e91e46f04b75",
   "metadata": {},
   "source": [
    "## Contributions, earnings, and Roth conversions"
   ]
  },
  {
   "cell_type": "markdown",
   "id": "a0ca59f8-f8fa-4432-95f5-106cc97aab92",
   "metadata": {},
   "source": [
    "This file contains anticipated income and contributions to savings accounts over the next few years. No Roth conversions are currenly planned in the file. Have a look at the worksheet in Excel. Very simple."
   ]
  },
  {
   "cell_type": "code",
   "execution_count": null,
   "id": "7748bcf1",
   "metadata": {},
   "outputs": [],
   "source": [
    "plan.readContributions('roth.xlsx')"
   ]
  },
  {
   "cell_type": "markdown",
   "id": "eecc3b25-ae80-4e6a-be38-1f3c66a46899",
   "metadata": {},
   "source": [
    "##  Assets allocation ratios for each type of savings account"
   ]
  },
  {
   "cell_type": "markdown",
   "id": "9a7b4719-6fe4-4f08-9e14-7156d994a3fc",
   "metadata": {},
   "source": [
    "We will use a fully coordinated assets allocation strategy. This means that the overall assets allocation is maintained for the sum of both spouses, but the ratio of each can be biased depending on the balance in savings accounts. This way, the spouse with a larger balance in a tax-free account can carry a larger fraction of stock equities, while still maintaining the requested assets allocation when considering the sum of the accounts of both spouses. Being conservative, they start with a 60/40 portfolio, gliding to a 70/30 portfolio at the midst of their retirement life."
   ]
  },
  {
   "cell_type": "code",
   "execution_count": null,
   "id": "79b58a42-e200-47d6-b275-835cd6e68689",
   "metadata": {},
   "outputs": [],
   "source": [
    "# For coordination taking place for each individual separately.\n",
    "# plan.setCoordinatedAR(initial=[[60, 30, 5, 5], [70, 30, 0, 0]], final=[[50, 30, 5, 15], [40, 20, 15, 25]])\n",
    "\n",
    "# For a single individual, of for coordinating both spousal accounts simultaneously.\n",
    "plan.setCoordinatedAR(initial=[60, 30, 5, 5], final=[70, 20, 5, 5])\n",
    "\n",
    "# An interpolation must follow either call for generating the data for all the years of the simulation.\n",
    "# This determines how the glide takes place.\n",
    "plan.interpolateAR('s-curve')\n",
    "plan.showAllocations()"
   ]
  },
  {
   "cell_type": "markdown",
   "id": "ff0cef47-ff75-49e4-88bd-5ce914903fbc",
   "metadata": {},
   "source": [
    "## Desired income and income profile"
   ]
  },
  {
   "cell_type": "markdown",
   "id": "c5a3f4ff-4911-4774-b509-f764ec66ce52",
   "metadata": {},
   "source": [
    "Our couple believes that \\\\$120k net income can be sufficient for their needs. As they want to spend more at the beginning of their retirement, they opt for a *smile* spending profile."
   ]
  },
  {
   "cell_type": "code",
   "execution_count": null,
   "id": "67a8087a",
   "metadata": {},
   "outputs": [],
   "source": [
    "plan.setDesiredIncome(120000, 'smile')"
   ]
  },
  {
   "cell_type": "markdown",
   "id": "43bd9a2a-e2bf-434f-88ac-b0a70dcdd1fd",
   "metadata": {},
   "source": [
    "## Pension and social security\n",
    "They have no pension, but both will receive a little over average for social security benefits (average social security benefits are about \\\\$22k for men and \\\\$18k for women). Clyde will take social security benefits at full retirement age, while Clyde will wait until age 70."
   ]
  },
  {
   "cell_type": "code",
   "execution_count": null,
   "id": "8c6e5ac9",
   "metadata": {},
   "outputs": [],
   "source": [
    "plan.setPension([0, 0], [65, 65])\n",
    "plan.setSocialSecurity([35000, 27000], [70, 67])"
   ]
  },
  {
   "cell_type": "markdown",
   "id": "e9e8b32d-d13b-43b0-8c17-cfe3f58b66be",
   "metadata": {},
   "source": [
    "## Spousal split\n",
    "This determines how to withdraw from each spousal account. The option *auto* makes it proportional to the balance, avoiding overdrawing from an account."
   ]
  },
  {
   "cell_type": "code",
   "execution_count": null,
   "id": "ec9f7c76",
   "metadata": {},
   "outputs": [],
   "source": [
    "plan.setSpousalSplit('auto')"
   ]
  },
  {
   "cell_type": "markdown",
   "id": "6fd38f91-b15e-4750-bf29-a8b29d499ff6",
   "metadata": {},
   "source": [
    "## Set rates and run case"
   ]
  },
  {
   "cell_type": "markdown",
   "id": "3c573955-77f4-46cc-bc84-dd67e6914cd5",
   "metadata": {},
   "source": [
    "We want to find the (near) best Roth conversions that can maximize the wealth at the end of life. Note that this is not an exercise trying to minimize the amount of tax paid or to maximize the amount to spend. More taxes could be paid, if this leads to more wealth for the heirs conditional to satisfying a desired net income during the life span of Clyde and Bonnie.\n",
    "\n",
    "In particular, is there a preferable sequence of conversions when markets are fluctuating? To answer this question, we will use two cases. One with fixed rate of returns, and another with the sequence of historical rates that happened from 1969 and the years after. Are there signs in the market that can indicate preferable times to make a Roth conversion?\n",
    "\n",
    "We start by making clones of the plan we have designed so far, and select different kind of rates. One has fixed, conservative rates, while the other has historical and realistic annual rates of returns."
   ]
  },
  {
   "cell_type": "code",
   "execution_count": null,
   "id": "36cac062-cfd1-4daa-84f5-9362258cf97d",
   "metadata": {},
   "outputs": [],
   "source": [
    "plan_fixed = arp.clone(plan)\n",
    "plan_fixed.setRates('conservative')\n",
    "\n",
    "plan_hist = arp.clone(plan)           \n",
    "plan_hist.setRates('historical', 1969)"
   ]
  },
  {
   "cell_type": "markdown",
   "id": "e0eb8dfd-75c8-4f7b-8bc4-13838e881a23",
   "metadata": {},
   "source": [
    "Let's first run both cases with no conversion. When reporting estate value, we will assume that there marginal income tax rate to be paid by heirs on the tax-deferred portion of the inheritance is 20%.  We will use the variable `heirsTaxRate` to store the 20%, allowing you to change the value at a single place for experimenting with different scenarios.\n",
    "\n",
    "Note that the estate value is in today's \\\\$."
   ]
  },
  {
   "cell_type": "code",
   "execution_count": null,
   "id": "34842e1a-0081-4b20-bdc2-08abee82a2aa",
   "metadata": {},
   "outputs": [],
   "source": [
    "arp.setVerbose(False)\n",
    "heirsTaxRate = 20\n",
    "\n",
    "plan_fixed.run()\n",
    "plan_fixed.estate(heirsTaxRate)\n",
    "\n",
    "plan_hist.run()\n",
    "plan_hist.estate(heirsTaxRate)"
   ]
  },
  {
   "cell_type": "markdown",
   "id": "6207f4af-9aae-4e42-a5ea-beb27388379a",
   "metadata": {},
   "source": [
    "Given the historical sequence of rates, including inflation, the final wealth in today's \\\\$ is about \\\\$5.1M, while it is only \\\\$3.2M when we consider fixed conservative rates. This is to be expected.\n",
    "\n",
    "Now we try to find a better scenario that would include the (near) best sequence of Roth conversions for each of these cases. For this purpose, we use the `optimizeRoth()` function. The first and second arguments specify the plan to optimize and the tax rate on the tax-deferred portion of the estate. The minimization algorithm must also be given a Roth conversion amount to start considering down to the smallest adjustment to make. These values are specified using the `startConv` and `minConv` values. Note that the computer time required to make the calculations will increase as you decrease the value of `minConv`.\n",
    "\n",
    "We will use the `%%time` option of Jupyter to report the computer time to run the case. We will assume a tax rate of 20% to be applied to the tax-deferred portion left in the estate after Clyde and Bonnie have passed. This is done to be able to make meaningful comparisons between end-of-life in the case where portfolios have a mix of tax-deferred and tax-free assets. "
   ]
  },
  {
   "cell_type": "code",
   "execution_count": null,
   "id": "a0a5dd75-704b-487a-8f9b-29d78c4f3883",
   "metadata": {},
   "outputs": [],
   "source": [
    "%%time\n",
    "plan_fixed2, conversions_fixed = arp.optimizeRoth(plan_fixed, heirsTaxRate, minConv=250, startConv=128000)\n",
    "print(conversions_fixed)"
   ]
  },
  {
   "cell_type": "markdown",
   "id": "8b7c406d-26bc-425f-9921-6113b97df81e",
   "metadata": {},
   "source": [
    "For fixed rates, we see that Roth conversion can still increase the value of the estate by \\\\$186 k. This is mostly due to tax avoidance of the large RMDs that would result otherwise. "
   ]
  },
  {
   "cell_type": "code",
   "execution_count": null,
   "id": "5f743a41-5312-465e-884a-5e01930c9ad7",
   "metadata": {},
   "outputs": [],
   "source": [
    "plan_fixed2.estate(heirsTaxRate)"
   ]
  },
  {
   "cell_type": "markdown",
   "id": "5425b20f-51bd-4e64-9273-2e6451683831",
   "metadata": {},
   "source": [
    "Let's compare the fixed-rate case with and without Roth conversions. Notice how the composition of the savings accounts at the end of life is quite different between the two cases. We use identifying strings in the function calls for plots to distinguish the graphs from one another. Also notice how large are Bonnie's RMDs when no conversions are performed and that Roth conversions are made during the years when the income of the couple is lower, i.e., between the time when wages stopped coming in and social security starts."
   ]
  },
  {
   "cell_type": "code",
   "execution_count": null,
   "id": "84066c83-9d38-460e-a2a3-8652057f1b10",
   "metadata": {},
   "outputs": [],
   "source": [
    "plan_fixed.showSources('fixed')\n",
    "plan_fixed2.showSources('fixed+conversions')\n",
    "\n",
    "plan_fixed.showRates('fixed')\n",
    "\n",
    "plan_fixed.showAccounts('fixed')\n",
    "plan_fixed2.showAccounts('fixed+conversions')\n",
    "\n",
    "plan_fixed.showGrossIncome('fixed')\n",
    "plan_fixed2.showGrossIncome('fixed+conversions')\n",
    "\n",
    "plan_fixed.showTaxes('fixed')\n",
    "plan_fixed2.showTaxes('fixed+conversions')"
   ]
  },
  {
   "cell_type": "markdown",
   "id": "1c8f58aa-c683-4f68-9d7d-2acadfd0683c",
   "metadata": {},
   "source": [
    "Now let's optimize the case with historical rates."
   ]
  },
  {
   "cell_type": "code",
   "execution_count": null,
   "id": "66f9e299-8d5f-4f69-bf83-56fae64a60d4",
   "metadata": {},
   "outputs": [],
   "source": [
    "%%time\n",
    "plan_hist2, conversions_hist = arp.optimizeRoth(plan_hist, heirsTaxRate, minConv=250, startConv=128000)\n",
    "print(conversions_hist)"
   ]
  },
  {
   "cell_type": "markdown",
   "id": "f1f013c0-da9a-4305-8b67-da5670aecd1c",
   "metadata": {},
   "source": [
    "We look at the estate value of the historical rates with Roth conversions."
   ]
  },
  {
   "cell_type": "code",
   "execution_count": null,
   "id": "b03bb847-e2b0-45d5-ad75-c26132f227c5",
   "metadata": {},
   "outputs": [],
   "source": [
    "plan_hist2.estate(heirsTaxRate)"
   ]
  },
  {
   "cell_type": "markdown",
   "id": "cca43877-9081-45ae-9948-55cdce7f7a6a",
   "metadata": {},
   "source": [
    "Even when assuming a rather low income tax rate of 20% on the tax-deferred account for the heirs, Roth conversions could increase the value by close to \\\\$775k (in today's \\\\$, or strictly speaking in that case, in 1969 \\\\$, which is the first year of retirement).\n",
    "\n",
    "We can save all withdrawals and events using the `saveInstance()` function. Do `help(arp.Plan.saveInstance)` for details."
   ]
  },
  {
   "cell_type": "markdown",
   "id": "aea2099d-57b0-4d0b-a70b-e5691650fb7a",
   "metadata": {},
   "source": [
    "We do the same comparison, without and with Roth conversions with the plan having historical rates from 1969. Pay special attention to the alignments between conversions and market recoveries.  In particular, compare the suggested conversions with the fluctuations in the market."
   ]
  },
  {
   "cell_type": "code",
   "execution_count": null,
   "id": "3497d26d-0594-4a22-829a-8f5ba6931f06",
   "metadata": {},
   "outputs": [],
   "source": [
    "plan_hist.showSources('hist')\n",
    "plan_hist2.showSources('hist+conversions')\n",
    "\n",
    "plan_hist.showRates('hist')\n",
    "\n",
    "plan_hist.showAccounts('hist')\n",
    "plan_hist2.showAccounts('hist+conversions')\n",
    "\n",
    "plan_hist.showGrossIncome('hist')\n",
    "plan_hist2.showGrossIncome('hist+conversions')\n",
    "\n",
    "plan_hist.showTaxes('hist')\n",
    "plan_hist2.showTaxes('hist+conversions')"
   ]
  },
  {
   "cell_type": "markdown",
   "id": "cba8edcb-dba9-4f28-a799-6c50db3a73f2",
   "metadata": {},
   "source": [
    "### Brief analysis\n",
    "Note how the Roth conversions are timed with the spikes in rates of return, reinforcing the practice that making Roth conversion during the downturns of the market is an excellent strategy. Here, the Roth conversions are assumed to be done early in the year, before the annual rate of return is applied. As a results, conversions in the same year as when the market recovers is the best strategy. As we do not know when the market will bounce, we do know when the market goes down, and therefore a strategy of converting any time during a market large dip is good. Maybe a guardrail approach could be investigated.\n",
    "\n",
    "Another contributing factor to this additional wealth is that when tax-deferred assets are large, the RMDs can have a significant tax impact in the middle-to-late years of retirement. Roth conversion smooths out these income peaks by shifting the tax burden earlier in the retirement and avoiding large RMDs later in life. Moreover, coordinated accounts can maintain a balanced portfolio while shifting high-performance (but riskier) assets to a tax-free account, further reducing the tax burden on the remaining assets.\n",
    "\n",
    "When return rates are constant, the proposed Roth conversions will tend to align with a given tax bracket (dashed lines), following common wisdom. The situation here is a combination of both, as it seems advantageous to break the tax bracket line for generating more return in a tax-free account before a swing of market recovery.\n",
    "\n",
    "Recall that this simulation is using average annual return rates and not daily rates. This has two consequences. The first one is that a knowledge of daily market values could lead to even more gains. But this is only wishful thinking. Second, this simulation assumes that conversions happen at the beginning of the year. A practical implementation would be to design a guard rail system in which a drop in the market beyond a certain percentage value could trigger a Roth conversion of a certain amount optimized over informed assumptions."
   ]
  },
  {
   "cell_type": "markdown",
   "id": "f52b86d6-063d-4503-992e-12f4c46f3e1c",
   "metadata": {},
   "source": [
    "### More questions"
   ]
  },
  {
   "cell_type": "markdown",
   "id": "b18551b0-b99b-4129-abc1-9be66a9a881c",
   "metadata": {},
   "source": [
    "I hope this example have convinced you that Roth conversions have complex implications and should be considered for reasons beyond those strictly comparing the current tax rate with possible tax rates of the future. The effects of large RMDs, heirs income tax on estate, and market fluctuations need to be considered.\n",
    "\n",
    "Many more questions can be explored:\n",
    "- What is the effect of the tax-deferred tax rate assumed? Does a rate of 30% give the same answer as 20%? How about 60%? At what percentage will optimized scenarios have the tax-deferred accounts all be converted by the time that Clyde and Bonnie have passed?\n",
    "- What is the effect of a *smile* spending profile vs a *flat* spending profile?\n",
    "- What if both spouses have large tax-deferred assets?\n",
    "- What are the benefits of accounts allocations in this case? What if accounts allocations are not coordinated?\n",
    "- What happens if a different historical starting year other than 1969 is selected? Are the effects as significant?\n",
    "- ...\n",
    "\n",
    "ARP Lab is designed to tackle these questions. They can be answered by changing only a few parameters in this file. Or in your own case file. For running a new case, edit the parameters and click on the double play arrows at the top bar of the notebook (*Restart Kernel and Run All Cells*).\n",
    "\n",
    "Go explore!\n",
    "  "
   ]
  }
 ],
 "metadata": {
  "kernelspec": {
   "display_name": "Python 3 (ipykernel)",
   "language": "python",
   "name": "python3"
  },
  "language_info": {
   "codemirror_mode": {
    "name": "ipython",
    "version": 3
   },
   "file_extension": ".py",
   "mimetype": "text/x-python",
   "name": "python",
   "nbconvert_exporter": "python",
   "pygments_lexer": "ipython3"
  },
  "toc-autonumbering": false,
  "toc-showmarkdowntxt": false
 },
 "nbformat": 4,
 "nbformat_minor": 5
}
