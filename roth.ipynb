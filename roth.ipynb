{
 "cells": [
  {
   "cell_type": "markdown",
   "id": "ca3f462e",
   "metadata": {},
   "source": [
    "# ARP Lab\n",
    "## A Retirement Planning Laboratory"
   ]
  },
  {
   "cell_type": "markdown",
   "id": "3fbb38b5",
   "metadata": {},
   "source": [
    "This package is a retirement modeling framework for exploring the sensitivity of retirement financial decisions. Strictly speaking, it is not a planning tool, but more an environment for exploring *what if* scenarios. It provides different realizations of a financial strategy. One can certainly have a savings plan, but due to the volatility of financial investments, it is impossible to have a certain asset earnings plan. This does not mean one cannot make decisions. These decisions need to be guided with an understanding of the sensitivity of the parameters.This is exactly where this tool fits it. Given your savings and spending desires, it can generate different future realizations of your strategy under different market assumptions, helping to better understand your financial situation.\n",
    "\n",
    "Copyright - Martin-D. Lacasse (2023)\n",
    "\n",
    "Disclaimers: *I am not a financial planner. You make your own decisions. This program comes with no guarantee. Use at your own risk.*"
   ]
  },
  {
   "cell_type": "markdown",
   "id": "6d1e3334-beaf-4a38-905b-0cf00c3c4eaa",
   "metadata": {},
   "source": [
    "# Exploring the complex effects of Roth conversions"
   ]
  },
  {
   "cell_type": "markdown",
   "id": "a738e9ba-8567-4268-8724-79b112612065",
   "metadata": {},
   "source": [
    "In this short notebook, we will explore the subtle effects of Roth conversions. We start with a couple having a little over \\\\$2M in assets. As is common, one spouse can significantly more assets than the other. Here, Bonnie enjoyed high wages and generous benefits from her employer, while Clyde had an equally enjoyable but less lucrative career."
   ]
  },
  {
   "cell_type": "markdown",
   "id": "4f1fd7ca",
   "metadata": {},
   "source": [
    "### Loading the modules\n",
    "The following commands load the required module and set the program to display informational messages as it runs. It also makes sure that all graphs are properly displayed within the jupyter interface."
   ]
  },
  {
   "cell_type": "code",
   "execution_count": null,
   "id": "7744b67b",
   "metadata": {},
   "outputs": [],
   "source": [
    "%matplotlib inline\n",
    "# import arp\n",
    "\n",
    "import importlib\n",
    "arp = importlib.import_module('arp')\n",
    "importlib.reload(arp)\n",
    "\n",
    "arp.setVerbose(True)"
   ]
  },
  {
   "cell_type": "markdown",
   "id": "3fb40afb-468d-49d6-8ea6-1c40477720b4",
   "metadata": {},
   "source": [
    "## Initialize"
   ]
  },
  {
   "cell_type": "markdown",
   "id": "0fb31825-da92-45f8-8b36-ff6abf7b1871",
   "metadata": {},
   "source": [
    "Start with a couple being about 5 years from retirement. Bonnie is born in 64, while Clyde is two years younger."
   ]
  },
  {
   "cell_type": "code",
   "execution_count": null,
   "id": "760e4a8e",
   "metadata": {},
   "outputs": [],
   "source": [
    "plan1 = arp.Plan(YOB=[1964, 1966], expectancy=[87, 84])"
   ]
  },
  {
   "cell_type": "markdown",
   "id": "1c5ce60c-9886-4b58-84aa-d6168f5c216e",
   "metadata": {},
   "source": [
    "## Assets balances in each type of savings accounts\n",
    "You should be familiar with this command by now."
   ]
  },
  {
   "cell_type": "code",
   "execution_count": null,
   "id": "aa9b0109",
   "metadata": {},
   "outputs": [],
   "source": [
    "plan1.setAssetBalances(taxable=[100000, 50000], \n",
    "                       taxDeferred=[2000000, 400000],\n",
    "                       taxFree=[120000, 25000],\n",
    "                       beneficiary=[1, 1])"
   ]
  },
  {
   "cell_type": "markdown",
   "id": "029acbc5-419a-41b1-89d9-e91e46f04b75",
   "metadata": {},
   "source": [
    "## Contributions, earnings, and Roth conversions"
   ]
  },
  {
   "cell_type": "code",
   "execution_count": null,
   "id": "7748bcf1",
   "metadata": {},
   "outputs": [],
   "source": [
    "plan1.readContributions('roth.xlsx')"
   ]
  },
  {
   "cell_type": "markdown",
   "id": "eecc3b25-ae80-4e6a-be38-1f3c66a46899",
   "metadata": {},
   "source": [
    "##  Assets allocation ratios for each type of savings account"
   ]
  },
  {
   "cell_type": "markdown",
   "id": "9a7b4719-6fe4-4f08-9e14-7156d994a3fc",
   "metadata": {},
   "source": [
    "We will use a fully coordinated assets allocation strategy."
   ]
  },
  {
   "cell_type": "code",
   "execution_count": null,
   "id": "79b58a42-e200-47d6-b275-835cd6e68689",
   "metadata": {},
   "outputs": [],
   "source": [
    "# For coordination taking place for each individual separately.\n",
    "# plan1.setCoordinatedAR(initial=[[60, 30, 5, 5], [70, 30, 0, 0]], final=[[50, 30, 5, 15], [40, 20, 15, 25]])\n",
    "\n",
    "# For a single individual, of for coordinating both spousal accounts simultaneously.\n",
    "plan1.setCoordinatedAR(initial=[60, 30, 5, 5], final=[60, 30, 5, 5])\n",
    "\n",
    "# An interpolation must follow either call for generating the data for all the years of the simulation.\n",
    "plan1.interpolateAR('s-curve')\n",
    "plan1.showAllocations()"
   ]
  },
  {
   "cell_type": "markdown",
   "id": "ff0cef47-ff75-49e4-88bd-5ce914903fbc",
   "metadata": {},
   "source": [
    "## Desired income and income profile"
   ]
  },
  {
   "cell_type": "markdown",
   "id": "c5a3f4ff-4911-4774-b509-f764ec66ce52",
   "metadata": {},
   "source": [
    "Use a \\\\$120k as desired net income with a *smile* profile."
   ]
  },
  {
   "cell_type": "code",
   "execution_count": null,
   "id": "67a8087a",
   "metadata": {},
   "outputs": [],
   "source": [
    "plan1.setDesiredIncome(120000, 'smile')"
   ]
  },
  {
   "cell_type": "markdown",
   "id": "43bd9a2a-e2bf-434f-88ac-b0a70dcdd1fd",
   "metadata": {},
   "source": [
    "## Pension and social security"
   ]
  },
  {
   "cell_type": "code",
   "execution_count": null,
   "id": "8c6e5ac9",
   "metadata": {},
   "outputs": [],
   "source": [
    "plan1.setPension([0, 0], [65, 65])\n",
    "plan1.setSocialSecurity([35000, 27000], [70, 67])"
   ]
  },
  {
   "cell_type": "markdown",
   "id": "4426eee7-4f35-4b59-8ce3-7caa6a2eb662",
   "metadata": {},
   "source": [
    "This file contains anticipated income and contributions to savings accounts over the next few years. No Roth conversions are currenly planned in the file. Have a look at the worksheet in Excel. Very simple."
   ]
  },
  {
   "cell_type": "markdown",
   "id": "e9e8b32d-d13b-43b0-8c17-cfe3f58b66be",
   "metadata": {},
   "source": [
    "## Spousal split"
   ]
  },
  {
   "cell_type": "code",
   "execution_count": null,
   "id": "ec9f7c76",
   "metadata": {},
   "outputs": [],
   "source": [
    "plan1.setSpousalSplit('auto')"
   ]
  },
  {
   "cell_type": "markdown",
   "id": "6fd38f91-b15e-4750-bf29-a8b29d499ff6",
   "metadata": {},
   "source": [
    "## Set rates and run case"
   ]
  },
  {
   "cell_type": "markdown",
   "id": "3c573955-77f4-46cc-bc84-dd67e6914cd5",
   "metadata": {},
   "source": [
    "We want to find the (near) best Roth conversions that can maximize the wealth at the end of life. Note that this is not an exercise trying to minimize the amount of tax paid. More taxes could be paid, if this leads to more wealth for the heirs conditional to satisfying a desired net income during the life span of Clyde and Bonnie. Is there a preferable sequence of conversions when markets are fluctuating? To answer this question, we will use the sequence of historical rates that happened from 1969 and the years after. Are there signs in the market that can indicate preferable times to make a Roth conversion? Let's run this case. We will use the `%%time` option of Jupyter to report the computer time to run the case. We will assume a tax rate of 25% to be applied to the tax-deferred portion left in the estate after Clyde and Bonnie have passed. This is done to be able to make meaningful comparisons between end-of-life portfolios that have a mix of tax-deferred and tax-free assets."
   ]
  },
  {
   "cell_type": "code",
   "execution_count": null,
   "id": "36cac062-cfd1-4daa-84f5-9362258cf97d",
   "metadata": {},
   "outputs": [],
   "source": [
    "plan1.setRates('historical', 1969)"
   ]
  },
  {
   "cell_type": "markdown",
   "id": "e0eb8dfd-75c8-4f7b-8bc4-13838e881a23",
   "metadata": {},
   "source": [
    "Let's run the case with no conversion."
   ]
  },
  {
   "cell_type": "code",
   "execution_count": null,
   "id": "34842e1a-0081-4b20-bdc2-08abee82a2aa",
   "metadata": {},
   "outputs": [],
   "source": [
    "arp.setVerbose(False)\n",
    "plan1.run();\n",
    "plan1.estate(25)"
   ]
  },
  {
   "cell_type": "markdown",
   "id": "6207f4af-9aae-4e42-a5ea-beb27388379a",
   "metadata": {},
   "source": [
    "Given the historical sequence of rates, including inflation, the final wealth in today's \\\\$ is about \\\\$4.3M. Now we try to find a better scenario that would include the (near) best sequence of Roth conversions.  The first and second arguments specify the plan to optimize and the tax rate on the tax-deferred portion of the estate. The minimization algorithm can also be given a Roth conversion amount to start considering down to the smallest adjustment to make. These values are specified using the `startConv` and `minConv` values. "
   ]
  },
  {
   "cell_type": "code",
   "execution_count": null,
   "id": "a0a5dd75-704b-487a-8f9b-29d78c4f3883",
   "metadata": {},
   "outputs": [],
   "source": [
    "%%time\n",
    "plan2, conversions = arp.optimizeRoth(plan1, 25, minConv=50, startConv=128000)\n",
    "print(conversions)"
   ]
  },
  {
   "cell_type": "markdown",
   "id": "cca43877-9081-45ae-9948-55cdce7f7a6a",
   "metadata": {},
   "source": [
    "Assuming a tax rate of 25% on the tax-deferred account for the heirs, Roth conversions could increase the value by close to \\\\$800k (in today's \\\\$). Notice that running the algorithm multiple times will give different results depending on the random sequence used to obtain an optimal solution. These results are typically within +/-5% of one another.\n",
    "\n",
    "We can save all withdrawals and events using the `saveInstance()` function, instructing to overwrite the file if it exists."
   ]
  },
  {
   "cell_type": "code",
   "execution_count": null,
   "id": "5f743a41-5312-465e-884a-5e01930c9ad7",
   "metadata": {},
   "outputs": [],
   "source": [
    "plan2.estate(25)\n",
    "plan2.saveInstance('optimized roth for b+c', True)"
   ]
  },
  {
   "cell_type": "markdown",
   "id": "5425b20f-51bd-4e64-9273-2e6451683831",
   "metadata": {},
   "source": [
    "Let's compare the two scenarios. In particular, compare the suggested conversions with the fluctuactions in the market. Also, notice how the composition of the savings accounts at the end of life is quite different between the two cases."
   ]
  },
  {
   "cell_type": "code",
   "execution_count": null,
   "id": "84066c83-9d38-460e-a2a3-8652057f1b10",
   "metadata": {},
   "outputs": [],
   "source": [
    "plan1.showSources('base')\n",
    "plan2.showSources('conversions')\n",
    "\n",
    "plan1.showRates('1969')\n",
    "\n",
    "plan1.showAccounts('base')\n",
    "plan2.showAccounts('conversions')\n",
    "\n",
    "plan1.showGrossIncome('base')\n",
    "plan2.showGrossIncome('conversions')\n",
    "\n",
    "plan1.showTaxes('base')\n",
    "plan2.showTaxes('conversions')"
   ]
  },
  {
   "cell_type": "markdown",
   "id": "cba8edcb-dba9-4f28-a799-6c50db3a73f2",
   "metadata": {},
   "source": [
    "### Brief analysis\n",
    "Note how the Roth conversions are timed with the spikes in rates of return, reinforcing the practice that making Roth conversion during the downturns of the market is an excellent strategy. Here, the Roth conversions are assumed to be done early in the year, before the annual rate of return is applied. As a results, conversions in the same year as when the market recovers is the best strategy. As we do not know when the market will bounce, we do know when the market goes down, and therefore a strategy of converting any time during a market large dip is good.\n",
    "\n",
    "When tax-deferred assets are large, the RMDs can have a significant tax impact in the middle-to-late years of retirement. Roth conversion smooths out these income peaks by shifting the tax burden earlier in the retirement and avoiding large RMDs later in life. Moreover, coordinated accounts can maintain a balanced portfolio while shifting high-performance (but riskier) assets to a tax-free account, further reducing the tax burden on the remaining assets.\n",
    "\n",
    "When return rates are constant, the proposed Roth conversions will tend to align with a given tax bracket (dashed lines), following common wisdom. The situation here is a combination of both, as it seems advantageous to break the tax bracket line for generating more return in a tax-free account before a swing of market recovery."
   ]
  },
  {
   "cell_type": "markdown",
   "id": "f52b86d6-063d-4503-992e-12f4c46f3e1c",
   "metadata": {},
   "source": [
    "### More questions"
   ]
  },
  {
   "cell_type": "markdown",
   "id": "b18551b0-b99b-4129-abc1-9be66a9a881c",
   "metadata": {},
   "source": [
    "Roth conversions have complex implications and should be considered for reasons beyond those strictly comparing the tax rate now with possible tax rates of the future. Many more questions can be explored:\n",
    "- What is the effect of a *smile* spending profile vs a *flat* spending profile?\n",
    "- What are the benefits of accounts allocations in this case? What if accounts allocations are not coordinated?\n",
    "- What if both spouses have large tax-deferred assets?\n",
    "- What is the effect of the tax-deferred tax rate assumed? Does a rate of 30% give the same answer as 20%?\n",
    "- What happens in years other than 1969? Are the effects as significant?\n",
    "- ...\n",
    "\n",
    "ARP Lab is designed to tackle these questions. They can be answered by changing only a few parameters in this file. Or in your own case file.\n",
    "\n",
    "Go explore!\n",
    "  "
   ]
  }
 ],
 "metadata": {
  "kernelspec": {
   "display_name": "Python 3 (ipykernel)",
   "language": "python",
   "name": "python3"
  },
  "language_info": {
   "codemirror_mode": {
    "name": "ipython",
    "version": 3
   },
   "file_extension": ".py",
   "mimetype": "text/x-python",
   "name": "python",
   "nbconvert_exporter": "python",
   "pygments_lexer": "ipython3"
  },
  "toc-autonumbering": false,
  "toc-showmarkdowntxt": false
 },
 "nbformat": 4,
 "nbformat_minor": 5
}
